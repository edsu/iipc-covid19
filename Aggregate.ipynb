{
 "cells": [
  {
   "cell_type": "markdown",
   "metadata": {},
   "source": [
    "# Aggregate\n",
    "\n",
    "So we've done some work in other notebooks to collect URLs related to COVID-19 in social bookmarking sites/projects. Let's use this notebook to aggregate it together into a single dataset."
   ]
  },
  {
   "cell_type": "code",
   "execution_count": 143,
   "metadata": {},
   "outputs": [],
   "source": [
    "import pandas\n",
    "\n",
    "reddit = pandas.read_csv('data/reddit.csv')\n",
    "pinboard = pandas.read_csv('data/pinboard.csv')\n",
    "ncovmem = pandas.read_csv('data/ncovmem.csv')\n",
    "iipc = pandas.read_csv('data/iipc.csv')"
   ]
  },
  {
   "cell_type": "markdown",
   "metadata": {},
   "source": [
    "While some of the details of these datasets are different they all contain columns for `url`, `title` and `created`. In the case of ncovmem the created time is stored in a column called `updated` so lets update that."
   ]
  },
  {
   "cell_type": "code",
   "execution_count": 144,
   "metadata": {},
   "outputs": [],
   "source": [
    "ncovmem.columns = ncovmem.columns.map(lambda c: 'created' if c == 'update' else c)"
   ]
  },
  {
   "cell_type": "markdown",
   "metadata": {},
   "source": [
    "Next lets add a column to each dataframe that indicates the source so when we combine them together we will know where the data came from."
   ]
  },
  {
   "cell_type": "code",
   "execution_count": 145,
   "metadata": {},
   "outputs": [],
   "source": [
    "reddit['source'] = 'reddit'\n",
    "pinboard['source'] = 'pinboard'\n",
    "ncovmem['source'] = 'ncovmem'\n",
    "iipc['source'] = 'iipc'"
   ]
  },
  {
   "cell_type": "code",
   "execution_count": 146,
   "metadata": {},
   "outputs": [],
   "source": [
    "def prune(df):\n",
    "    for col in df.columns:\n",
    "        if col not in ['url', 'title', 'created', 'source']:\n",
    "            df = df.drop(col, 1)\n",
    "    return df\n",
    "\n",
    "reddit = prune(reddit)\n",
    "ncovmem = prune(ncovmem)\n",
    "pinboard = prune(pinboard)\n",
    "iipc = prune(iipc)"
   ]
  },
  {
   "cell_type": "markdown",
   "metadata": {},
   "source": [
    "Now we are ready to combine them together!"
   ]
  },
  {
   "cell_type": "code",
   "execution_count": 147,
   "metadata": {},
   "outputs": [
    {
     "data": {
      "text/html": [
       "<div>\n",
       "<style scoped>\n",
       "    .dataframe tbody tr th:only-of-type {\n",
       "        vertical-align: middle;\n",
       "    }\n",
       "\n",
       "    .dataframe tbody tr th {\n",
       "        vertical-align: top;\n",
       "    }\n",
       "\n",
       "    .dataframe thead th {\n",
       "        text-align: right;\n",
       "    }\n",
       "</style>\n",
       "<table border=\"1\" class=\"dataframe\">\n",
       "  <thead>\n",
       "    <tr style=\"text-align: right;\">\n",
       "      <th></th>\n",
       "      <th>url</th>\n",
       "      <th>created</th>\n",
       "      <th>title</th>\n",
       "      <th>source</th>\n",
       "    </tr>\n",
       "  </thead>\n",
       "  <tbody>\n",
       "    <tr>\n",
       "      <th>0</th>\n",
       "      <td>http://coronavirus.fr/</td>\n",
       "      <td>2020-02-21T03:43:18.662353Z</td>\n",
       "      <td>Epicorem. Ecoépidémiologie</td>\n",
       "      <td>iipc</td>\n",
       "    </tr>\n",
       "    <tr>\n",
       "      <th>1</th>\n",
       "      <td>http://english.whiov.cas.cn/</td>\n",
       "      <td>2020-02-21T03:43:18.706571Z</td>\n",
       "      <td>Wuhan Institute of Virulogy, official page in ...</td>\n",
       "      <td>iipc</td>\n",
       "    </tr>\n",
       "    <tr>\n",
       "      <th>2</th>\n",
       "      <td>http://www.china-embassy.or.jp/chn/</td>\n",
       "      <td>2020-02-21T03:43:18.739126Z</td>\n",
       "      <td>中华人民共和国驻日本大使馆</td>\n",
       "      <td>iipc</td>\n",
       "    </tr>\n",
       "    <tr>\n",
       "      <th>3</th>\n",
       "      <td>http://www.china-embassy.or.jp/jpn/</td>\n",
       "      <td>2020-02-21T03:43:18.766308Z</td>\n",
       "      <td>中華人民共和国駐日本国大使館</td>\n",
       "      <td>iipc</td>\n",
       "    </tr>\n",
       "    <tr>\n",
       "      <th>4</th>\n",
       "      <td>https://cadenaser.com/tag/ncov/a/</td>\n",
       "      <td>2020-02-21T03:43:18.791716Z</td>\n",
       "      <td>Coronavirus de Wuhan</td>\n",
       "      <td>iipc</td>\n",
       "    </tr>\n",
       "    <tr>\n",
       "      <th>...</th>\n",
       "      <td>...</td>\n",
       "      <td>...</td>\n",
       "      <td>...</td>\n",
       "      <td>...</td>\n",
       "    </tr>\n",
       "    <tr>\n",
       "      <th>143330</th>\n",
       "      <td>https://twitter.com/DarrenPlymouth/status/1220...</td>\n",
       "      <td>2020-01-23 16:48:54</td>\n",
       "      <td>Can anyone confirm if this is real?</td>\n",
       "      <td>reddit</td>\n",
       "    </tr>\n",
       "    <tr>\n",
       "      <th>143331</th>\n",
       "      <td>https://www.reddit.com/r/Coronavirus/comments/...</td>\n",
       "      <td>2020-01-23 17:08:53</td>\n",
       "      <td>Doctor at Wuhan hospital states “ the virus is...</td>\n",
       "      <td>reddit</td>\n",
       "    </tr>\n",
       "    <tr>\n",
       "      <th>143332</th>\n",
       "      <td>https://www.nature.com/news/inside-the-chinese...</td>\n",
       "      <td>2020-01-23 17:18:46</td>\n",
       "      <td>This raises a question to me as to the true or...</td>\n",
       "      <td>reddit</td>\n",
       "    </tr>\n",
       "    <tr>\n",
       "      <th>143333</th>\n",
       "      <td>https://www.reddit.com/r/Coronavirus/comments/...</td>\n",
       "      <td>2020-01-23 17:26:39</td>\n",
       "      <td>Would the flu shot provide any protection agai...</td>\n",
       "      <td>reddit</td>\n",
       "    </tr>\n",
       "    <tr>\n",
       "      <th>143334</th>\n",
       "      <td>https://www.reddit.com/r/Coronavirus/comments/...</td>\n",
       "      <td>2020-01-23 16:18:13</td>\n",
       "      <td>Package from South Korea.</td>\n",
       "      <td>reddit</td>\n",
       "    </tr>\n",
       "  </tbody>\n",
       "</table>\n",
       "<p>143335 rows × 4 columns</p>\n",
       "</div>"
      ],
      "text/plain": [
       "                                                      url  \\\n",
       "0                                  http://coronavirus.fr/   \n",
       "1                            http://english.whiov.cas.cn/   \n",
       "2                     http://www.china-embassy.or.jp/chn/   \n",
       "3                     http://www.china-embassy.or.jp/jpn/   \n",
       "4                       https://cadenaser.com/tag/ncov/a/   \n",
       "...                                                   ...   \n",
       "143330  https://twitter.com/DarrenPlymouth/status/1220...   \n",
       "143331  https://www.reddit.com/r/Coronavirus/comments/...   \n",
       "143332  https://www.nature.com/news/inside-the-chinese...   \n",
       "143333  https://www.reddit.com/r/Coronavirus/comments/...   \n",
       "143334  https://www.reddit.com/r/Coronavirus/comments/...   \n",
       "\n",
       "                            created  \\\n",
       "0       2020-02-21T03:43:18.662353Z   \n",
       "1       2020-02-21T03:43:18.706571Z   \n",
       "2       2020-02-21T03:43:18.739126Z   \n",
       "3       2020-02-21T03:43:18.766308Z   \n",
       "4       2020-02-21T03:43:18.791716Z   \n",
       "...                             ...   \n",
       "143330          2020-01-23 16:48:54   \n",
       "143331          2020-01-23 17:08:53   \n",
       "143332          2020-01-23 17:18:46   \n",
       "143333          2020-01-23 17:26:39   \n",
       "143334          2020-01-23 16:18:13   \n",
       "\n",
       "                                                    title  source  \n",
       "0                              Epicorem. Ecoépidémiologie    iipc  \n",
       "1       Wuhan Institute of Virulogy, official page in ...    iipc  \n",
       "2                                           中华人民共和国驻日本大使馆    iipc  \n",
       "3                                          中華人民共和国駐日本国大使館    iipc  \n",
       "4                                    Coronavirus de Wuhan    iipc  \n",
       "...                                                   ...     ...  \n",
       "143330                Can anyone confirm if this is real?  reddit  \n",
       "143331  Doctor at Wuhan hospital states “ the virus is...  reddit  \n",
       "143332  This raises a question to me as to the true or...  reddit  \n",
       "143333  Would the flu shot provide any protection agai...  reddit  \n",
       "143334                          Package from South Korea.  reddit  \n",
       "\n",
       "[143335 rows x 4 columns]"
      ]
     },
     "execution_count": 147,
     "metadata": {},
     "output_type": "execute_result"
    }
   ],
   "source": [
    "seeds = pandas.concat([iipc, ncovmem, pinboard, reddit], ignore_index=True)\n",
    "seeds"
   ]
  },
  {
   "cell_type": "markdown",
   "metadata": {},
   "source": [
    "## Reddit Posts\n",
    "\n",
    "There are actually a large number of posts that don't link out to the web and are just questions and comments."
   ]
  },
  {
   "cell_type": "code",
   "execution_count": 148,
   "metadata": {},
   "outputs": [
    {
     "data": {
      "text/plain": [
       "18730"
      ]
     },
     "execution_count": 148,
     "metadata": {},
     "output_type": "execute_result"
    }
   ],
   "source": [
    "len(seeds[seeds.url.str.contains('reddit.com')])"
   ]
  },
  {
   "cell_type": "code",
   "execution_count": 149,
   "metadata": {},
   "outputs": [
    {
     "data": {
      "text/plain": [
       "124605"
      ]
     },
     "execution_count": 149,
     "metadata": {},
     "output_type": "execute_result"
    }
   ],
   "source": [
    "seeds = seeds[~seeds.url.str.contains('reddit.com')]\n",
    "len(seeds)"
   ]
  },
  {
   "cell_type": "code",
   "execution_count": null,
   "metadata": {},
   "outputs": [],
   "source": []
  }
 ],
 "metadata": {
  "kernelspec": {
   "display_name": "Python 3",
   "language": "python",
   "name": "python3"
  },
  "language_info": {
   "codemirror_mode": {
    "name": "ipython",
    "version": 3
   },
   "file_extension": ".py",
   "mimetype": "text/x-python",
   "name": "python",
   "nbconvert_exporter": "python",
   "pygments_lexer": "ipython3",
   "version": "3.7.6"
  }
 },
 "nbformat": 4,
 "nbformat_minor": 4
}
