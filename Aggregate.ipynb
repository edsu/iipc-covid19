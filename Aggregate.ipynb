{
 "cells": [
  {
   "cell_type": "markdown",
   "metadata": {},
   "source": [
    "# Aggregate\n",
    "\n",
    "So we've done some work in other notebooks to collect URLs related to COVID-19 in social bookmarking sites/projects. Let's use this notebook to aggregate it together into a single dataset."
   ]
  },
  {
   "cell_type": "code",
   "execution_count": 69,
   "metadata": {},
   "outputs": [],
   "source": [
    "import pandas\n",
    "\n",
    "reddit = pandas.read_csv('data/reddit.csv')\n",
    "pinboard = pandas.read_csv('data/pinboard.csv')\n",
    "ncovmem = pandas.read_csv('data/ncovmem.csv')\n",
    "iipc = pandas.read_csv('data/iipc.csv')"
   ]
  },
  {
   "cell_type": "markdown",
   "metadata": {},
   "source": [
    "While some of the details of these datasets are different they all contain columns for `url`, `title` and `created`. In the case of ncovmem the created time is stored in a column called `updated` so lets update that."
   ]
  },
  {
   "cell_type": "code",
   "execution_count": 70,
   "metadata": {},
   "outputs": [],
   "source": [
    "ncovmem.columns = ncovmem.columns.map(lambda c: 'created' if c == 'update' else c)"
   ]
  },
  {
   "cell_type": "markdown",
   "metadata": {},
   "source": [
    "Next lets add a column to each dataframe that indicates the source so when we combine them together we will know where the data came from."
   ]
  },
  {
   "cell_type": "code",
   "execution_count": 71,
   "metadata": {},
   "outputs": [],
   "source": [
    "reddit['source'] = 'reddit'\n",
    "pinboard['source'] = 'pinboard'\n",
    "ncovmem['source'] = 'ncovmem'\n",
    "iipc['source'] = 'iipc'"
   ]
  },
  {
   "cell_type": "code",
   "execution_count": 72,
   "metadata": {},
   "outputs": [],
   "source": [
    "def prune(df):\n",
    "    for col in df.columns:\n",
    "        if col not in ['url', 'title', 'created', 'source']:\n",
    "            df = df.drop(col, 1)\n",
    "    return df\n",
    "\n",
    "reddit = prune(reddit)\n",
    "ncovmem = prune(ncovmem)\n",
    "pinboard = prune(pinboard)\n",
    "iipc = prune(iipc)"
   ]
  },
  {
   "cell_type": "markdown",
   "metadata": {},
   "source": [
    "Now we are ready to combine them together!"
   ]
  },
  {
   "cell_type": "code",
   "execution_count": 73,
   "metadata": {},
   "outputs": [
    {
     "data": {
      "text/html": [
       "<div>\n",
       "<style scoped>\n",
       "    .dataframe tbody tr th:only-of-type {\n",
       "        vertical-align: middle;\n",
       "    }\n",
       "\n",
       "    .dataframe tbody tr th {\n",
       "        vertical-align: top;\n",
       "    }\n",
       "\n",
       "    .dataframe thead th {\n",
       "        text-align: right;\n",
       "    }\n",
       "</style>\n",
       "<table border=\"1\" class=\"dataframe\">\n",
       "  <thead>\n",
       "    <tr style=\"text-align: right;\">\n",
       "      <th></th>\n",
       "      <th>url</th>\n",
       "      <th>created</th>\n",
       "      <th>title</th>\n",
       "      <th>source</th>\n",
       "    </tr>\n",
       "  </thead>\n",
       "  <tbody>\n",
       "    <tr>\n",
       "      <th>0</th>\n",
       "      <td>http://coronavirus.fr/</td>\n",
       "      <td>2020-02-21T03:43:18.662353Z</td>\n",
       "      <td>Epicorem. Ecoépidémiologie</td>\n",
       "      <td>iipc</td>\n",
       "    </tr>\n",
       "    <tr>\n",
       "      <th>1</th>\n",
       "      <td>http://english.whiov.cas.cn/</td>\n",
       "      <td>2020-02-21T03:43:18.706571Z</td>\n",
       "      <td>Wuhan Institute of Virulogy, official page in ...</td>\n",
       "      <td>iipc</td>\n",
       "    </tr>\n",
       "    <tr>\n",
       "      <th>2</th>\n",
       "      <td>http://www.china-embassy.or.jp/chn/</td>\n",
       "      <td>2020-02-21T03:43:18.739126Z</td>\n",
       "      <td>中华人民共和国驻日本大使馆</td>\n",
       "      <td>iipc</td>\n",
       "    </tr>\n",
       "    <tr>\n",
       "      <th>3</th>\n",
       "      <td>http://www.china-embassy.or.jp/jpn/</td>\n",
       "      <td>2020-02-21T03:43:18.766308Z</td>\n",
       "      <td>中華人民共和国駐日本国大使館</td>\n",
       "      <td>iipc</td>\n",
       "    </tr>\n",
       "    <tr>\n",
       "      <th>4</th>\n",
       "      <td>https://cadenaser.com/tag/ncov/a/</td>\n",
       "      <td>2020-02-21T03:43:18.791716Z</td>\n",
       "      <td>Coronavirus de Wuhan</td>\n",
       "      <td>iipc</td>\n",
       "    </tr>\n",
       "    <tr>\n",
       "      <th>...</th>\n",
       "      <td>...</td>\n",
       "      <td>...</td>\n",
       "      <td>...</td>\n",
       "      <td>...</td>\n",
       "    </tr>\n",
       "    <tr>\n",
       "      <th>139924</th>\n",
       "      <td>https://www.google.co.uk/amp/s/www.liverpoolec...</td>\n",
       "      <td>2020-03-25 11:53:00</td>\n",
       "      <td>21 year old dies with no existing condition</td>\n",
       "      <td>reddit</td>\n",
       "    </tr>\n",
       "    <tr>\n",
       "      <th>139925</th>\n",
       "      <td>https://www.gearbest.com/braces---supports/pp_...</td>\n",
       "      <td>2020-03-25 11:53:20</td>\n",
       "      <td>In case you still have time, here are some N95...</td>\n",
       "      <td>reddit</td>\n",
       "    </tr>\n",
       "    <tr>\n",
       "      <th>139926</th>\n",
       "      <td>https://thefederalist.com/2020/03/25/how-medic...</td>\n",
       "      <td>2020-03-25 11:53:36</td>\n",
       "      <td>The Federalist - It is time to think outside t...</td>\n",
       "      <td>reddit</td>\n",
       "    </tr>\n",
       "    <tr>\n",
       "      <th>139927</th>\n",
       "      <td>https://www.chron.com/local/komo/article/King-...</td>\n",
       "      <td>2020-03-25 11:53:53</td>\n",
       "      <td>Seattle - King County preparing to release hun...</td>\n",
       "      <td>reddit</td>\n",
       "    </tr>\n",
       "    <tr>\n",
       "      <th>139928</th>\n",
       "      <td>https://www.abcactionnews.com/news/region-pine...</td>\n",
       "      <td>2020-03-25 11:54:04</td>\n",
       "      <td>Pinellas County (FL) issues 'safer-at-home' re...</td>\n",
       "      <td>reddit</td>\n",
       "    </tr>\n",
       "  </tbody>\n",
       "</table>\n",
       "<p>139929 rows × 4 columns</p>\n",
       "</div>"
      ],
      "text/plain": [
       "                                                      url  \\\n",
       "0                                  http://coronavirus.fr/   \n",
       "1                            http://english.whiov.cas.cn/   \n",
       "2                     http://www.china-embassy.or.jp/chn/   \n",
       "3                     http://www.china-embassy.or.jp/jpn/   \n",
       "4                       https://cadenaser.com/tag/ncov/a/   \n",
       "...                                                   ...   \n",
       "139924  https://www.google.co.uk/amp/s/www.liverpoolec...   \n",
       "139925  https://www.gearbest.com/braces---supports/pp_...   \n",
       "139926  https://thefederalist.com/2020/03/25/how-medic...   \n",
       "139927  https://www.chron.com/local/komo/article/King-...   \n",
       "139928  https://www.abcactionnews.com/news/region-pine...   \n",
       "\n",
       "                            created  \\\n",
       "0       2020-02-21T03:43:18.662353Z   \n",
       "1       2020-02-21T03:43:18.706571Z   \n",
       "2       2020-02-21T03:43:18.739126Z   \n",
       "3       2020-02-21T03:43:18.766308Z   \n",
       "4       2020-02-21T03:43:18.791716Z   \n",
       "...                             ...   \n",
       "139924          2020-03-25 11:53:00   \n",
       "139925          2020-03-25 11:53:20   \n",
       "139926          2020-03-25 11:53:36   \n",
       "139927          2020-03-25 11:53:53   \n",
       "139928          2020-03-25 11:54:04   \n",
       "\n",
       "                                                    title  source  \n",
       "0                              Epicorem. Ecoépidémiologie    iipc  \n",
       "1       Wuhan Institute of Virulogy, official page in ...    iipc  \n",
       "2                                           中华人民共和国驻日本大使馆    iipc  \n",
       "3                                          中華人民共和国駐日本国大使館    iipc  \n",
       "4                                    Coronavirus de Wuhan    iipc  \n",
       "...                                                   ...     ...  \n",
       "139924        21 year old dies with no existing condition  reddit  \n",
       "139925  In case you still have time, here are some N95...  reddit  \n",
       "139926  The Federalist - It is time to think outside t...  reddit  \n",
       "139927  Seattle - King County preparing to release hun...  reddit  \n",
       "139928  Pinellas County (FL) issues 'safer-at-home' re...  reddit  \n",
       "\n",
       "[139929 rows x 4 columns]"
      ]
     },
     "execution_count": 73,
     "metadata": {},
     "output_type": "execute_result"
    }
   ],
   "source": [
    "seeds = pandas.concat([iipc, ncovmem, pinboard, reddit], ignore_index=True)\n",
    "seeds"
   ]
  },
  {
   "cell_type": "markdown",
   "metadata": {},
   "source": [
    "## Massage\n",
    "\n",
    "One thing about the Reddit dataset is that many of the URLs include posts to Reddit, rather than links."
   ]
  },
  {
   "cell_type": "code",
   "execution_count": 77,
   "metadata": {},
   "outputs": [
    {
     "ename": "ValueError",
     "evalue": "Cannot mask with non-boolean array containing NA / NaN values",
     "output_type": "error",
     "traceback": [
      "\u001b[0;31m---------------------------------------------------------------------------\u001b[0m",
      "\u001b[0;31mValueError\u001b[0m                                Traceback (most recent call last)",
      "\u001b[0;32m<ipython-input-77-fcad608b778a>\u001b[0m in \u001b[0;36m<module>\u001b[0;34m\u001b[0m\n\u001b[1;32m      1\u001b[0m \u001b[0;31m#seeds[seeds.url.str.match('https://reddit')]\u001b[0m\u001b[0;34m\u001b[0m\u001b[0;34m\u001b[0m\u001b[0;34m\u001b[0m\u001b[0m\n\u001b[0;32m----> 2\u001b[0;31m \u001b[0mseeds\u001b[0m\u001b[0;34m[\u001b[0m\u001b[0mseeds\u001b[0m\u001b[0;34m.\u001b[0m\u001b[0murl\u001b[0m\u001b[0;34m.\u001b[0m\u001b[0mstr\u001b[0m\u001b[0;34m.\u001b[0m\u001b[0mstartswith\u001b[0m\u001b[0;34m(\u001b[0m\u001b[0;34m'https'\u001b[0m\u001b[0;34m)\u001b[0m\u001b[0;34m]\u001b[0m\u001b[0;34m\u001b[0m\u001b[0;34m\u001b[0m\u001b[0m\n\u001b[0m",
      "\u001b[0;32m~/.local/share/virtualenvs/iipc-covid19--t3WRkk8/lib/python3.7/site-packages/pandas/core/frame.py\u001b[0m in \u001b[0;36m__getitem__\u001b[0;34m(self, key)\u001b[0m\n\u001b[1;32m   2788\u001b[0m \u001b[0;34m\u001b[0m\u001b[0m\n\u001b[1;32m   2789\u001b[0m         \u001b[0;31m# Do we have a (boolean) 1d indexer?\u001b[0m\u001b[0;34m\u001b[0m\u001b[0;34m\u001b[0m\u001b[0;34m\u001b[0m\u001b[0m\n\u001b[0;32m-> 2790\u001b[0;31m         \u001b[0;32mif\u001b[0m \u001b[0mcom\u001b[0m\u001b[0;34m.\u001b[0m\u001b[0mis_bool_indexer\u001b[0m\u001b[0;34m(\u001b[0m\u001b[0mkey\u001b[0m\u001b[0;34m)\u001b[0m\u001b[0;34m:\u001b[0m\u001b[0;34m\u001b[0m\u001b[0;34m\u001b[0m\u001b[0m\n\u001b[0m\u001b[1;32m   2791\u001b[0m             \u001b[0;32mreturn\u001b[0m \u001b[0mself\u001b[0m\u001b[0;34m.\u001b[0m\u001b[0m_getitem_bool_array\u001b[0m\u001b[0;34m(\u001b[0m\u001b[0mkey\u001b[0m\u001b[0;34m)\u001b[0m\u001b[0;34m\u001b[0m\u001b[0;34m\u001b[0m\u001b[0m\n\u001b[1;32m   2792\u001b[0m \u001b[0;34m\u001b[0m\u001b[0m\n",
      "\u001b[0;32m~/.local/share/virtualenvs/iipc-covid19--t3WRkk8/lib/python3.7/site-packages/pandas/core/common.py\u001b[0m in \u001b[0;36mis_bool_indexer\u001b[0;34m(key)\u001b[0m\n\u001b[1;32m    134\u001b[0m                 \u001b[0mna_msg\u001b[0m \u001b[0;34m=\u001b[0m \u001b[0;34m\"Cannot mask with non-boolean array containing NA / NaN values\"\u001b[0m\u001b[0;34m\u001b[0m\u001b[0;34m\u001b[0m\u001b[0m\n\u001b[1;32m    135\u001b[0m                 \u001b[0;32mif\u001b[0m \u001b[0misna\u001b[0m\u001b[0;34m(\u001b[0m\u001b[0mkey\u001b[0m\u001b[0;34m)\u001b[0m\u001b[0;34m.\u001b[0m\u001b[0many\u001b[0m\u001b[0;34m(\u001b[0m\u001b[0;34m)\u001b[0m\u001b[0;34m:\u001b[0m\u001b[0;34m\u001b[0m\u001b[0;34m\u001b[0m\u001b[0m\n\u001b[0;32m--> 136\u001b[0;31m                     \u001b[0;32mraise\u001b[0m \u001b[0mValueError\u001b[0m\u001b[0;34m(\u001b[0m\u001b[0mna_msg\u001b[0m\u001b[0;34m)\u001b[0m\u001b[0;34m\u001b[0m\u001b[0;34m\u001b[0m\u001b[0m\n\u001b[0m\u001b[1;32m    137\u001b[0m                 \u001b[0;32mreturn\u001b[0m \u001b[0;32mFalse\u001b[0m\u001b[0;34m\u001b[0m\u001b[0;34m\u001b[0m\u001b[0m\n\u001b[1;32m    138\u001b[0m             \u001b[0;32mreturn\u001b[0m \u001b[0;32mTrue\u001b[0m\u001b[0;34m\u001b[0m\u001b[0;34m\u001b[0m\u001b[0m\n",
      "\u001b[0;31mValueError\u001b[0m: Cannot mask with non-boolean array containing NA / NaN values"
     ]
    }
   ],
   "source": [
    "#seeds[seeds.url.str.match('https://reddit')]\n",
    "seeds[seeds.url.str.startswith('https')]"
   ]
  },
  {
   "cell_type": "markdown",
   "metadata": {},
   "source": [
    "Obviously this is up to someone doing the archiving, but since we are mostly interested in archiving content on the web outside of these social bookmarking tools we can remove those fairly easily."
   ]
  },
  {
   "cell_type": "code",
   "execution_count": null,
   "metadata": {},
   "outputs": [],
   "source": []
  }
 ],
 "metadata": {
  "kernelspec": {
   "display_name": "Python 3",
   "language": "python",
   "name": "python3"
  },
  "language_info": {
   "codemirror_mode": {
    "name": "ipython",
    "version": 3
   },
   "file_extension": ".py",
   "mimetype": "text/x-python",
   "name": "python",
   "nbconvert_exporter": "python",
   "pygments_lexer": "ipython3",
   "version": "3.7.6"
  }
 },
 "nbformat": 4,
 "nbformat_minor": 4
}
