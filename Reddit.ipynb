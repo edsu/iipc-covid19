{
 "cells": [
  {
   "cell_type": "markdown",
   "metadata": {},
   "source": [
    "# Reddit\n",
    "\n",
    "There is a [subreddit dedicated to the topic of Coronavirus](https://www.reddit.com/r/Coronavirus/). It currently has 1.5 million members.\n",
    "\n",
    "> On December 2019, a novel coronavirus strain (SARS-CoV-2) emerged in the city of Wuhan, China. This subreddit seeks to monitor the spread of the disease COVID-19, declared a pandemic by the WHO. Please be civil and empathetic. This subreddit is for high quality posts and discussion.\n",
    "\n",
    "Despite this description, this subreddit actually started in on May 3, 2013! Yep, coronaviruses have been with us for some time.\n",
    "\n",
    "Is it possible to look through the URLs being shared there to see if there are seeds for the COVID-19 project? Let's install [praw](https://praw.readthedocs.io/en/latest/) the Python Reddit API Wrapper and find out."
   ]
  },
  {
   "cell_type": "code",
   "execution_count": 2,
   "metadata": {},
   "outputs": [],
   "source": [
    "! pip --quiet install praw"
   ]
  },
  {
   "cell_type": "markdown",
   "metadata": {},
   "source": [
    "https://www.reddit.com/prefs/apps"
   ]
  },
  {
   "cell_type": "code",
   "execution_count": 6,
   "metadata": {},
   "outputs": [],
   "source": [
    "import praw\n",
    "\n",
    "reddit = praw.Reddit(\n",
    "    client_id = 'jzlgUXvJdNIrEA', \n",
    "    client_secret = 'JF0GJm26ZAkVjBFWvQH2ueuUH6g', \n",
    "    user_agent = 'praw-edsu')"
   ]
  },
  {
   "cell_type": "markdown",
   "metadata": {},
   "source": [
    "Let's look specifically at the Coronavirus subreddit:"
   ]
  },
  {
   "cell_type": "code",
   "execution_count": 7,
   "metadata": {},
   "outputs": [],
   "source": [
    "covid19 = reddit.subreddit('Coronavirus') "
   ]
  },
  {
   "cell_type": "markdown",
   "metadata": {},
   "source": [
    "## Posts\n",
    "\n",
    "Reddit started as a site to share links to things, vote and comment on them. It attempts to rank these posts using what it calls \"hottness\" which is a ranking based on the votes it has received and its age. At one point in time the source code for Reddit was available, and it was possible to [definitively say](https://medium.com/hacking-and-gonzo/how-reddit-ranking-algorithms-work-ef111e33d0d9) how the algorithm worked. But now it's not entirely clear. At any rate the Reddit API provides access to the hottest posts."
   ]
  },
  {
   "cell_type": "code",
   "execution_count": 8,
   "metadata": {},
   "outputs": [
    {
     "name": "stdout",
     "output_type": "stream",
     "text": [
      "Daily Discussion Post - March 23 | Questions, images, videos, comments, unconfirmed reports, theories, suggestions\n",
      "https://www.reddit.com/r/Coronavirus/comments/fnkb5o/daily_discussion_post_march_23_questions_images/\n",
      "\n",
      "Humanity wins: our fight to unlock 32,544 COVID-19 articles for the world. This petition is dedicated to the victims of the outbreak and their families. We fought for every article for every scientist for you.\n",
      "https://twitter.com/freereadorg/status/1236104420217286658\n",
      "\n",
      "COVID-19 front-line workers deserve financial reward\n",
      "https://ottawacitizen.com/opinion/letters/todays-letters-covid-19-front-line-workers-deserve-financial-reward?utm_medium=Social&utm_source=Facebook#Echobox=1584960626\n",
      "\n",
      "Sen. Klobuchar says her husband has coronavirus: “We just got the test results at 7 a.m. this morning ... He now has pneumonia and is on oxygen but not a ventilator.”\n",
      "https://twitter.com/nbcnews/status/1242100184101851137?s=21\n",
      "\n",
      "We have surpassed 100,000 recovered cases worldwide\n",
      "https://twitter.com/CovidTweet/status/1242041656263749638\n",
      "\n",
      "I'm a critical care doctor working in a UK high consequence infectious diseases centre. Many units are totally full, and we are scrambling to create more capacity. The initial UK government approach has been a total failure. Ask me anything.\n",
      "https://www.reddit.com/r/Coronavirus/comments/fnl0n6/im_a_critical_care_doctor_working_in_a_uk_high/\n",
      "\n",
      "Ukrainian MP claimed “there is no coronavirus” in his speech, tested positive for COVID-19\n",
      "https://replyua.net/news/201575-koronavirusa-nikakogo-net-a-est-koronavirus-v-golovah-u-chinovnikov-shahovu-pripomnili-kak-on-otrical-ugrozu-virusa-covid-19-dlya-ukrainy.html\n",
      "\n",
      "New York coronavirus cases surge 38% overnight to 20,875\n",
      "https://www.cnbc.com/2020/03/23/new-york-coronavirus-cases-surge-38percent-overnight-to-20875.html\n",
      "\n",
      "Students across the US are being asked to work remotely. But 22% of homes don't have internet\n",
      "https://www.theguardian.com/commentisfree/2020/mar/23/us-students-are-being-asked-to-work-remotely-but-22-of-homes-dont-have-internet\n",
      "\n",
      "CVS to hire 50,000 workers to deal with coronavirus rush, give bonuses to employees\n",
      "https://www.nydailynews.com/coronavirus/ny-coronavirus-cvs-hire-bonuses-20200323-odrrunfd5zb7tptk6afp2dgqwy-story.html\n",
      "\n"
     ]
    }
   ],
   "source": [
    "posts = covid19.hot(limit=10)\n",
    "\n",
    "for post in posts:\n",
    "    print(post.title)\n",
    "    print(post.url)\n",
    "    print(\"\")"
   ]
  },
  {
   "cell_type": "markdown",
   "metadata": {},
   "source": [
    "## Archived URLs\n",
    "\n",
    "Now lets take a look at the top 100 stories, and see how many URLs have been archived at the Internet Archive."
   ]
  },
  {
   "cell_type": "code",
   "execution_count": 9,
   "metadata": {},
   "outputs": [
    {
     "name": "stdout",
     "output_type": "stream",
     "text": [
      "25 URLs checked ; 8 archived (32.0%) ; 0 unable to be archived.\n"
     ]
    }
   ],
   "source": [
    "from wayback import WaybackClient\n",
    "from wayback.exceptions import WaybackException\n",
    "\n",
    "wb = WaybackClient()\n",
    "\n",
    "checked = []\n",
    "archived = []\n",
    "errors = []\n",
    "\n",
    "for post in covid19.hot(limit=25):\n",
    "    checked.append(post.url)\n",
    "    try:\n",
    "        versions = wb.search(post.url)\n",
    "        if len(list(versions)) > 0:\n",
    "            archived.append(post.url)\n",
    "    except WaybackException:\n",
    "        errors.append(post.url)\n",
    "    except Exception as e:\n",
    "        print(e)\n",
    "    \n",
    "print('{0} URLs checked ; {1} archived ({2:.1f}%) ; {3} unable to be archived.'.format(\n",
    "    len(checked),\n",
    "    len(archived),\n",
    "    len(archived) / len(checked) * 100,\n",
    "    len(errors)\n",
    "))"
   ]
  },
  {
   "cell_type": "markdown",
   "metadata": {},
   "source": [
    "Ok, so what URLs have already been archived?"
   ]
  },
  {
   "cell_type": "code",
   "execution_count": 10,
   "metadata": {},
   "outputs": [
    {
     "name": "stdout",
     "output_type": "stream",
     "text": [
      "https://twitter.com/freereadorg/status/1236104420217286658\n",
      "https://www.reddit.com/r/Coronavirus/comments/fnl0n6/im_a_critical_care_doctor_working_in_a_uk_high/\n",
      "https://replyua.net/news/201575-koronavirusa-nikakogo-net-a-est-koronavirus-v-golovah-u-chinovnikov-shahovu-pripomnili-kak-on-otrical-ugrozu-virusa-covid-19-dlya-ukrainy.html\n",
      "https://www.theguardian.com/commentisfree/2020/mar/23/us-students-are-being-asked-to-work-remotely-but-22-of-homes-dont-have-internet\n",
      "https://twitter.com/WellingMichael/status/1241491706677284870\n",
      "https://nypost.com/2020/03/23/coronavirus-crisis-will-get-bad-this-week-surgeon-general-warns/\n",
      "https://www.freep.com/story/news/local/michigan/oakland/2020/03/23/whitmer-michigan-lock-down-like-ohio-six-others-coronavirus-covid-19/2896041001/\n",
      "https://www.sciencealert.com/mild-covid-19-might-cause-a-lost-of-smell-or-taste\n"
     ]
    }
   ],
   "source": [
    "for url in archived:\n",
    "    print(url)"
   ]
  },
  {
   "cell_type": "markdown",
   "metadata": {},
   "source": [
    "We can also see which ones have not been archived:"
   ]
  },
  {
   "cell_type": "code",
   "execution_count": 11,
   "metadata": {},
   "outputs": [
    {
     "name": "stdout",
     "output_type": "stream",
     "text": [
      "https://twitter.com/nbcnews/status/1242100184101851137?s=21\n",
      "http://kdvr.com/news/coronavirus/fda-approves-rapid-coronavirus-test-created-in-colorado\n",
      "https://edition.cnn.com/world/live-news/coronavirus-outbreak-03-23-20-intl-hnk/h_8df53475be78f0280ae6eeebe098885a\n",
      "https://www.latimes.com/opinion/story/2020-03-23/coronovirus-healthcare-workers-risk\n",
      "https://edition.cnn.com/2020/03/23/health/us-coronavirus-updates-monday/index.html\n",
      "https://twitter.com/BAG_OFSP_UFSP/status/1242051679098474498\n",
      "https://ottawacitizen.com/opinion/letters/todays-letters-covid-19-front-line-workers-deserve-financial-reward?utm_medium=Social&utm_source=Facebook#Echobox=1584960626\n",
      "https://twitter.com/nbcnews/status/1241914972579467266?s=21\n",
      "https://www.newsweek.com/new-york-city-now-has-more-confirmed-cases-coronavirus-all-south-korea-1493755\n",
      "https://www.ladbible.com/news/news-gran-95-becomes-oldest-woman-in-italy-to-recover-from-covid-19-20200323\n",
      "https://www.channel24.co.za/News/Local/queens-royal-aide-tests-positive-for-coronavirus-20200323\n",
      "https://www.cnbc.com/2020/03/23/new-york-coronavirus-cases-surge-38percent-overnight-to-20875.html\n",
      "https://www.foxnews.com/us/us-coronavirus-case-numbers\n",
      "https://www.nydailynews.com/coronavirus/ny-coronavirus-cvs-hire-bonuses-20200323-odrrunfd5zb7tptk6afp2dgqwy-story.html\n",
      "https://twitter.com/CovidTweet/status/1242041656263749638\n",
      "https://www.hongkongfp.com/2020/03/23/coronavirus-taiwan-fines-man-us33000-breaking-quarantine-rule/?fbclid=IwAR0iHRx7INgRuGPvc0r2lipNkn5dYRGM6c72cgaN-kQ9VMXqlVsYA6GFg7E\n",
      "https://www.reddit.com/r/Coronavirus/comments/fnkb5o/daily_discussion_post_march_23_questions_images/\n"
     ]
    }
   ],
   "source": [
    "for url in set(checked) - set(archived):\n",
    "    print(url)"
   ]
  },
  {
   "cell_type": "markdown",
   "metadata": {},
   "source": [
    "## PushShift API\n",
    "\n",
    "Unfortunately, Reddit's API doesn't let you retrieve more than 100 of the hottest posts. But there is a service called [PushShift](https://pushift.io) that does make this data available via an [API] of their own. It appears that PushShift has [some kind of relationship](https://www.reddit.com/r/pushshift/comments/bcxguf/new_to_pushshift_read_this_faq/) with Reddit to make this possible, but it's not entirely clear what that relationship is.\n",
    "\n",
    "So lets look the posts in the last hour on the Coronavirus subreddit using the PushShift API. The API is public (no authentication requied), and allows us to search the Coronavirus subreddit using time slices delimited by a `before` and `after` parameters."
   ]
  },
  {
   "cell_type": "code",
   "execution_count": 12,
   "metadata": {},
   "outputs": [],
   "source": [
    "import requests\n",
    "\n",
    "url = \"https://api.pushshift.io/reddit/search/submission?subreddit=Coronavirus\"\n",
    "params = {\n",
    "    \"subreddit\": \"Coronavirus\",\n",
    "    \"after\": \"1h\",\n",
    "    \"limit\": 1000\n",
    "}\n",
    "\n",
    "results = requests.get(url, params=params).json()['data']"
   ]
  },
  {
   "cell_type": "code",
   "execution_count": 133,
   "metadata": {},
   "outputs": [
    {
     "data": {
      "text/plain": [
       "201"
      ]
     },
     "execution_count": 133,
     "metadata": {},
     "output_type": "execute_result"
    }
   ],
   "source": [
    "len(results)"
   ]
  },
  {
   "cell_type": "markdown",
   "metadata": {},
   "source": [
    "PushShift make quite a bit more data available for each post--here's the first one:"
   ]
  },
  {
   "cell_type": "code",
   "execution_count": 105,
   "metadata": {},
   "outputs": [
    {
     "data": {
      "text/plain": [
       "{'all_awardings': [],\n",
       " 'allow_live_comments': False,\n",
       " 'author': 'seethingsasquatch',\n",
       " 'author_flair_css_class': None,\n",
       " 'author_flair_richtext': [],\n",
       " 'author_flair_text': None,\n",
       " 'author_flair_type': 'text',\n",
       " 'author_fullname': 't2_143vc8',\n",
       " 'author_patreon_flair': False,\n",
       " 'author_premium': False,\n",
       " 'awarders': [],\n",
       " 'can_mod_post': False,\n",
       " 'contest_mode': False,\n",
       " 'created_utc': 1584963077,\n",
       " 'domain': 'indiatoday.in',\n",
       " 'full_link': 'https://www.reddit.com/r/Coronavirus/comments/fnig1q/toll_in_india_reaches_8_as_55_year_old_dies_in/',\n",
       " 'gildings': {},\n",
       " 'id': 'fnig1q',\n",
       " 'is_crosspostable': True,\n",
       " 'is_meta': False,\n",
       " 'is_original_content': False,\n",
       " 'is_reddit_media_domain': False,\n",
       " 'is_robot_indexable': True,\n",
       " 'is_self': False,\n",
       " 'is_video': False,\n",
       " 'link_flair_background_color': '#a06324',\n",
       " 'link_flair_richtext': [],\n",
       " 'link_flair_template_id': 'bded30d0-5f12-11ea-acd8-0e6e24c51fab',\n",
       " 'link_flair_text': 'South &amp; SE Asia',\n",
       " 'link_flair_text_color': 'dark',\n",
       " 'link_flair_type': 'text',\n",
       " 'locked': False,\n",
       " 'media_only': False,\n",
       " 'no_follow': True,\n",
       " 'num_comments': 10,\n",
       " 'num_crossposts': 0,\n",
       " 'over_18': False,\n",
       " 'parent_whitelist_status': 'all_ads',\n",
       " 'permalink': '/r/Coronavirus/comments/fnig1q/toll_in_india_reaches_8_as_55_year_old_dies_in/',\n",
       " 'pinned': False,\n",
       " 'pwls': 6,\n",
       " 'retrieved_on': 1584963078,\n",
       " 'score': 1,\n",
       " 'selftext': '',\n",
       " 'send_replies': True,\n",
       " 'spoiler': False,\n",
       " 'stickied': False,\n",
       " 'subreddit': 'Coronavirus',\n",
       " 'subreddit_id': 't5_2x4yx',\n",
       " 'subreddit_subscribers': 1583334,\n",
       " 'subreddit_type': 'public',\n",
       " 'suggested_sort': 'confidence',\n",
       " 'thumbnail': 'default',\n",
       " 'title': 'Toll in India reaches 8 as 55 year old dies in Kolkata',\n",
       " 'total_awards_received': 0,\n",
       " 'url': 'https://www.indiatoday.in/india/story/coronavirus-in-india-55-year-old-man-dies-of-covid-19-in-kolkata-toll-at-8-now-1658773-2020-03-23',\n",
       " 'whitelist_status': 'all_ads',\n",
       " 'wls': 6}"
      ]
     },
     "execution_count": 105,
     "metadata": {},
     "output_type": "execute_result"
    }
   ],
   "source": [
    "results[0]"
   ]
  },
  {
   "cell_type": "markdown",
   "metadata": {},
   "source": [
    "For the purposes of appraising content about COVID-19 the `id`, `url`, `title`, `created_utc`, `score` and `num_comments` look like they could be useful. Let's create a function that will walk all the results back to January 1, 2020 (since we're interested in COVID-19) and write them to a CSV file. This is a bit of a longer stretch of code that I normally like to put in a Jupyter Notebook cell, but we need to do a bit of exception handling in case the API returns strangely.\n",
    "\n",
    "A few things to note about this code. We start out fetching 1 hour windows with the `before` and `after` parameters. But as we encounter time slices that have no posts we expand this window using the `step` variable."
   ]
  },
  {
   "cell_type": "code",
   "execution_count": 5,
   "metadata": {},
   "outputs": [
    {
     "name": "stdout",
     "output_type": "stream",
     "text": [
      ".uhoh: name 'requests' is not defined\n",
      ".uhoh: name 'requests' is not defined\n",
      ".uhoh: name 'requests' is not defined\n",
      ".uhoh: name 'requests' is not defined\n",
      ".uhoh: name 'requests' is not defined\n",
      ".uhoh: name 'requests' is not defined\n",
      ".uhoh: name 'requests' is not defined\n",
      ".uhoh: name 'requests' is not defined\n",
      ".uhoh: name 'requests' is not defined\n",
      ".uhoh: name 'requests' is not defined\n",
      ".uhoh: name 'requests' is not defined\n",
      ".uhoh: name 'requests' is not defined\n",
      ".uhoh: name 'requests' is not defined\n",
      ".uhoh: name 'requests' is not defined\n"
     ]
    },
    {
     "ename": "KeyboardInterrupt",
     "evalue": "",
     "output_type": "error",
     "traceback": [
      "\u001b[0;31m---------------------------------------------------------------------------\u001b[0m",
      "\u001b[0;31mKeyboardInterrupt\u001b[0m                         Traceback (most recent call last)",
      "\u001b[0;32m<ipython-input-5-32c3983a3ad8>\u001b[0m in \u001b[0;36m<module>\u001b[0;34m\u001b[0m\n\u001b[1;32m     65\u001b[0m \u001b[0;34m\u001b[0m\u001b[0m\n\u001b[1;32m     66\u001b[0m     \u001b[0;31m# be polite and wait a little between requests\u001b[0m\u001b[0;34m\u001b[0m\u001b[0;34m\u001b[0m\u001b[0;34m\u001b[0m\u001b[0m\n\u001b[0;32m---> 67\u001b[0;31m     \u001b[0mtime\u001b[0m\u001b[0;34m.\u001b[0m\u001b[0msleep\u001b[0m\u001b[0;34m(\u001b[0m\u001b[0;36m0.5\u001b[0m\u001b[0;34m)\u001b[0m\u001b[0;34m\u001b[0m\u001b[0;34m\u001b[0m\u001b[0m\n\u001b[0m\u001b[1;32m     68\u001b[0m \u001b[0;34m\u001b[0m\u001b[0m\n\u001b[1;32m     69\u001b[0m \u001b[0;34m\u001b[0m\u001b[0m\n",
      "\u001b[0;31mKeyboardInterrupt\u001b[0m: "
     ]
    }
   ],
   "source": [
    "import csv\n",
    "import sys\n",
    "import time\n",
    "import datetime\n",
    "\n",
    "out = csv.writer(open('data/reddit.csv', 'w'))\n",
    "out.writerow(['id', 'url', 'title', 'created', 'score', 'comments'])\n",
    "\n",
    "url = \"https://api.pushshift.io/reddit/search/submission?subreddit=Coronavirus\"\n",
    "params = {\n",
    "    \"subreddit\": \"Coronavirus\",\n",
    "    \"limit\": 1000\n",
    "}\n",
    "\n",
    "# hour keeps track of the start hour that we are looking at\n",
    "hour = 1\n",
    "\n",
    "# step is the number of hours to look for at a time, this changes \n",
    "step = 1\n",
    "\n",
    "# start is the start of the time period we are interested in\n",
    "start = datetime.datetime(2020, 1, 1)\n",
    "\n",
    "# stop is a variable to indicate we need to stop\n",
    "stop = False\n",
    "\n",
    "while not stop:\n",
    "    sys.stdout.write('.')\n",
    "    sys.stdout.flush()\n",
    "    \n",
    "    params['before'] = '{}h'.format(hour - step)\n",
    "    params['after'] = '{}h'.format(hour)\n",
    "    \n",
    "    try:\n",
    "        resp = requests.get(url, params=params)\n",
    "        if resp.status_code != 200:\n",
    "            print('received {} response'.format(resp.status_code))\n",
    "        else:\n",
    "            results = resp.json()['data']\n",
    "            if len(results) > 0: \n",
    "                for result in results:\n",
    "                    created = datetime.datetime.fromtimestamp(result['created_utc'])\n",
    "                    if created < start:\n",
    "                        stop = True\n",
    "                        break\n",
    "                    out.writerow([\n",
    "                        result['id'],\n",
    "                        result['url'],\n",
    "                        result['title'],\n",
    "                        created.isoformat(),\n",
    "                        result['score'],\n",
    "                        result['num_comments']\n",
    "                    ])\n",
    "\n",
    "            \n",
    "                # move the clock back another hour\n",
    "                hour += step\n",
    "            \n",
    "            else:\n",
    "                step += 1\n",
    "                        \n",
    "    except Exception as e:\n",
    "        print('uhoh: {}'.format(e))\n",
    "        \n",
    "\n",
    "    # be polite and wait a little between requests\n",
    "    time.sleep(0.5)\n",
    "\n",
    "    \n",
    "    "
   ]
  },
  {
   "cell_type": "code",
   "execution_count": 1,
   "metadata": {},
   "outputs": [
    {
     "data": {
      "text/html": [
       "<div>\n",
       "<style scoped>\n",
       "    .dataframe tbody tr th:only-of-type {\n",
       "        vertical-align: middle;\n",
       "    }\n",
       "\n",
       "    .dataframe tbody tr th {\n",
       "        vertical-align: top;\n",
       "    }\n",
       "\n",
       "    .dataframe thead th {\n",
       "        text-align: right;\n",
       "    }\n",
       "</style>\n",
       "<table border=\"1\" class=\"dataframe\">\n",
       "  <thead>\n",
       "    <tr style=\"text-align: right;\">\n",
       "      <th></th>\n",
       "      <th>id</th>\n",
       "      <th>url</th>\n",
       "      <th>title</th>\n",
       "      <th>created</th>\n",
       "      <th>score</th>\n",
       "      <th>comments</th>\n",
       "    </tr>\n",
       "  </thead>\n",
       "  <tbody>\n",
       "    <tr>\n",
       "      <th>0</th>\n",
       "      <td>fnneel</td>\n",
       "      <td>https://www.politico.com/newsletters/morning-t...</td>\n",
       "      <td>Tech world begs Congress for stronger bailout ...</td>\n",
       "      <td>2020-03-23 12:59:43</td>\n",
       "      <td>1</td>\n",
       "      <td>0</td>\n",
       "    </tr>\n",
       "    <tr>\n",
       "      <th>1</th>\n",
       "      <td>fnneir</td>\n",
       "      <td>https://twitter.com/nlpnyc/status/124211735353...</td>\n",
       "      <td>NY Governor Cuomo updates summary 3/23</td>\n",
       "      <td>2020-03-23 12:59:54</td>\n",
       "      <td>1</td>\n",
       "      <td>14</td>\n",
       "    </tr>\n",
       "    <tr>\n",
       "      <th>2</th>\n",
       "      <td>fnng6z</td>\n",
       "      <td>https://youtu.be/9uJpPZt-vJk</td>\n",
       "      <td>My daughters paediatrician being the legend he is</td>\n",
       "      <td>2020-03-23 13:02:26</td>\n",
       "      <td>1</td>\n",
       "      <td>1</td>\n",
       "    </tr>\n",
       "    <tr>\n",
       "      <th>3</th>\n",
       "      <td>fnng9w</td>\n",
       "      <td>https://www.nursingtimes.net/news/coronavirus/...</td>\n",
       "      <td>Nurses on coronavirus frontline facing ‘abhorr...</td>\n",
       "      <td>2020-03-23 13:02:34</td>\n",
       "      <td>1</td>\n",
       "      <td>26</td>\n",
       "    </tr>\n",
       "    <tr>\n",
       "      <th>4</th>\n",
       "      <td>fnngv7</td>\n",
       "      <td>https://www.ctvnews.ca/sci-tech/satellite-imag...</td>\n",
       "      <td>Satellite images show less pollution over the ...</td>\n",
       "      <td>2020-03-23 13:03:24</td>\n",
       "      <td>1</td>\n",
       "      <td>12</td>\n",
       "    </tr>\n",
       "    <tr>\n",
       "      <th>...</th>\n",
       "      <td>...</td>\n",
       "      <td>...</td>\n",
       "      <td>...</td>\n",
       "      <td>...</td>\n",
       "      <td>...</td>\n",
       "      <td>...</td>\n",
       "    </tr>\n",
       "    <tr>\n",
       "      <th>32019</th>\n",
       "      <td>es1pn4</td>\n",
       "      <td>https://www.reddit.com/r/Coronavirus/comments/...</td>\n",
       "      <td>Yikes</td>\n",
       "      <td>2020-01-21 16:49:40</td>\n",
       "      <td>1</td>\n",
       "      <td>23</td>\n",
       "    </tr>\n",
       "    <tr>\n",
       "      <th>32020</th>\n",
       "      <td>es2ooq</td>\n",
       "      <td>http://www.reddit.com/r/China_Flu</td>\n",
       "      <td>Join r/China_Flu, dedicated to monitoring curr...</td>\n",
       "      <td>2020-01-21 17:57:23</td>\n",
       "      <td>1</td>\n",
       "      <td>1</td>\n",
       "    </tr>\n",
       "    <tr>\n",
       "      <th>32021</th>\n",
       "      <td>es0m55</td>\n",
       "      <td>https://i.redd.it/egzid59707c41.jpg</td>\n",
       "      <td>When the first reported US case of the new Chi...</td>\n",
       "      <td>2020-01-21 15:36:26</td>\n",
       "      <td>1</td>\n",
       "      <td>32</td>\n",
       "    </tr>\n",
       "    <tr>\n",
       "      <th>32022</th>\n",
       "      <td>erj61t</td>\n",
       "      <td>https://www.reddit.com/r/Coronavirus/comments/...</td>\n",
       "      <td>When should we start to get worried about the ...</td>\n",
       "      <td>2020-01-20 15:32:31</td>\n",
       "      <td>1</td>\n",
       "      <td>82</td>\n",
       "    </tr>\n",
       "    <tr>\n",
       "      <th>32023</th>\n",
       "      <td>4t5rn4</td>\n",
       "      <td>https://www.reddit.com/r/Coronavirus/comments/...</td>\n",
       "      <td>BOOK┠FREE \"The Big Sky by A.B. Guthrie Jr.\" st...</td>\n",
       "      <td>2016-07-16 14:23:00</td>\n",
       "      <td>1</td>\n",
       "      <td>1</td>\n",
       "    </tr>\n",
       "  </tbody>\n",
       "</table>\n",
       "<p>32024 rows × 6 columns</p>\n",
       "</div>"
      ],
      "text/plain": [
       "           id                                                url  \\\n",
       "0      fnneel  https://www.politico.com/newsletters/morning-t...   \n",
       "1      fnneir  https://twitter.com/nlpnyc/status/124211735353...   \n",
       "2      fnng6z                       https://youtu.be/9uJpPZt-vJk   \n",
       "3      fnng9w  https://www.nursingtimes.net/news/coronavirus/...   \n",
       "4      fnngv7  https://www.ctvnews.ca/sci-tech/satellite-imag...   \n",
       "...       ...                                                ...   \n",
       "32019  es1pn4  https://www.reddit.com/r/Coronavirus/comments/...   \n",
       "32020  es2ooq                  http://www.reddit.com/r/China_Flu   \n",
       "32021  es0m55                https://i.redd.it/egzid59707c41.jpg   \n",
       "32022  erj61t  https://www.reddit.com/r/Coronavirus/comments/...   \n",
       "32023  4t5rn4  https://www.reddit.com/r/Coronavirus/comments/...   \n",
       "\n",
       "                                                   title             created  \\\n",
       "0      Tech world begs Congress for stronger bailout ... 2020-03-23 12:59:43   \n",
       "1                 NY Governor Cuomo updates summary 3/23 2020-03-23 12:59:54   \n",
       "2      My daughters paediatrician being the legend he is 2020-03-23 13:02:26   \n",
       "3      Nurses on coronavirus frontline facing ‘abhorr... 2020-03-23 13:02:34   \n",
       "4      Satellite images show less pollution over the ... 2020-03-23 13:03:24   \n",
       "...                                                  ...                 ...   \n",
       "32019                                              Yikes 2020-01-21 16:49:40   \n",
       "32020  Join r/China_Flu, dedicated to monitoring curr... 2020-01-21 17:57:23   \n",
       "32021  When the first reported US case of the new Chi... 2020-01-21 15:36:26   \n",
       "32022  When should we start to get worried about the ... 2020-01-20 15:32:31   \n",
       "32023  BOOK┠FREE \"The Big Sky by A.B. Guthrie Jr.\" st... 2016-07-16 14:23:00   \n",
       "\n",
       "       score  comments  \n",
       "0          1         0  \n",
       "1          1        14  \n",
       "2          1         1  \n",
       "3          1        26  \n",
       "4          1        12  \n",
       "...      ...       ...  \n",
       "32019      1        23  \n",
       "32020      1         1  \n",
       "32021      1        32  \n",
       "32022      1        82  \n",
       "32023      1         1  \n",
       "\n",
       "[32024 rows x 6 columns]"
      ]
     },
     "execution_count": 1,
     "metadata": {},
     "output_type": "execute_result"
    }
   ],
   "source": [
    "import pandas\n",
    "\n",
    "reddit = pandas.read_csv('data/reddit.csv', parse_dates=['created'])\n",
    "reddit"
   ]
  },
  {
   "cell_type": "markdown",
   "metadata": {},
   "source": [
    "Let's sort it by score."
   ]
  },
  {
   "cell_type": "code",
   "execution_count": 4,
   "metadata": {},
   "outputs": [
    {
     "data": {
      "text/html": [
       "<div>\n",
       "<style scoped>\n",
       "    .dataframe tbody tr th:only-of-type {\n",
       "        vertical-align: middle;\n",
       "    }\n",
       "\n",
       "    .dataframe tbody tr th {\n",
       "        vertical-align: top;\n",
       "    }\n",
       "\n",
       "    .dataframe thead th {\n",
       "        text-align: right;\n",
       "    }\n",
       "</style>\n",
       "<table border=\"1\" class=\"dataframe\">\n",
       "  <thead>\n",
       "    <tr style=\"text-align: right;\">\n",
       "      <th></th>\n",
       "      <th>id</th>\n",
       "      <th>url</th>\n",
       "      <th>title</th>\n",
       "      <th>created</th>\n",
       "      <th>score</th>\n",
       "      <th>comments</th>\n",
       "    </tr>\n",
       "  </thead>\n",
       "  <tbody>\n",
       "    <tr>\n",
       "      <th>32023</th>\n",
       "      <td>4t5rn4</td>\n",
       "      <td>https://www.reddit.com/r/Coronavirus/comments/...</td>\n",
       "      <td>BOOK┠FREE \"The Big Sky by A.B. Guthrie Jr.\" st...</td>\n",
       "      <td>2016-07-16 14:23:00</td>\n",
       "      <td>1</td>\n",
       "      <td>1</td>\n",
       "    </tr>\n",
       "    <tr>\n",
       "      <th>32022</th>\n",
       "      <td>erj61t</td>\n",
       "      <td>https://www.reddit.com/r/Coronavirus/comments/...</td>\n",
       "      <td>When should we start to get worried about the ...</td>\n",
       "      <td>2020-01-20 15:32:31</td>\n",
       "      <td>1</td>\n",
       "      <td>82</td>\n",
       "    </tr>\n",
       "    <tr>\n",
       "      <th>32021</th>\n",
       "      <td>es0m55</td>\n",
       "      <td>https://i.redd.it/egzid59707c41.jpg</td>\n",
       "      <td>When the first reported US case of the new Chi...</td>\n",
       "      <td>2020-01-21 15:36:26</td>\n",
       "      <td>1</td>\n",
       "      <td>32</td>\n",
       "    </tr>\n",
       "    <tr>\n",
       "      <th>32019</th>\n",
       "      <td>es1pn4</td>\n",
       "      <td>https://www.reddit.com/r/Coronavirus/comments/...</td>\n",
       "      <td>Yikes</td>\n",
       "      <td>2020-01-21 16:49:40</td>\n",
       "      <td>1</td>\n",
       "      <td>23</td>\n",
       "    </tr>\n",
       "    <tr>\n",
       "      <th>32020</th>\n",
       "      <td>es2ooq</td>\n",
       "      <td>http://www.reddit.com/r/China_Flu</td>\n",
       "      <td>Join r/China_Flu, dedicated to monitoring curr...</td>\n",
       "      <td>2020-01-21 17:57:23</td>\n",
       "      <td>1</td>\n",
       "      <td>1</td>\n",
       "    </tr>\n",
       "    <tr>\n",
       "      <th>...</th>\n",
       "      <td>...</td>\n",
       "      <td>...</td>\n",
       "      <td>...</td>\n",
       "      <td>...</td>\n",
       "      <td>...</td>\n",
       "      <td>...</td>\n",
       "    </tr>\n",
       "    <tr>\n",
       "      <th>240</th>\n",
       "      <td>fnoihu</td>\n",
       "      <td>https://yourbambo.com/products/10-rolls-3-ply-...</td>\n",
       "      <td>Start saving the environment and reducing your...</td>\n",
       "      <td>2020-03-23 13:58:53</td>\n",
       "      <td>1</td>\n",
       "      <td>0</td>\n",
       "    </tr>\n",
       "    <tr>\n",
       "      <th>241</th>\n",
       "      <td>fnoijk</td>\n",
       "      <td>https://www.dshs.state.tx.us/news/updates.shtm...</td>\n",
       "      <td>Texas Department of State Health Services, und...</td>\n",
       "      <td>2020-03-23 13:58:58</td>\n",
       "      <td>1</td>\n",
       "      <td>0</td>\n",
       "    </tr>\n",
       "    <tr>\n",
       "      <th>242</th>\n",
       "      <td>fnoimn</td>\n",
       "      <td>https://thehill.com/policy/healthcare/489041-f...</td>\n",
       "      <td>Florida university announces 5 spring breakers...</td>\n",
       "      <td>2020-03-23 13:59:05</td>\n",
       "      <td>1</td>\n",
       "      <td>0</td>\n",
       "    </tr>\n",
       "    <tr>\n",
       "      <th>243</th>\n",
       "      <td>fnoiu4</td>\n",
       "      <td>https://youtu.be/jnlvCTyMdDk</td>\n",
       "      <td>TKO &amp;amp; Martian - COVID-19 [Rap]</td>\n",
       "      <td>2020-03-23 13:59:24</td>\n",
       "      <td>1</td>\n",
       "      <td>0</td>\n",
       "    </tr>\n",
       "    <tr>\n",
       "      <th>244</th>\n",
       "      <td>fnoivj</td>\n",
       "      <td>https://www.usatoday.com/story/opinion/2020/03...</td>\n",
       "      <td>America needs a five-week national lockdown to...</td>\n",
       "      <td>2020-03-23 13:59:28</td>\n",
       "      <td>1</td>\n",
       "      <td>0</td>\n",
       "    </tr>\n",
       "  </tbody>\n",
       "</table>\n",
       "<p>32024 rows × 6 columns</p>\n",
       "</div>"
      ],
      "text/plain": [
       "           id                                                url  \\\n",
       "32023  4t5rn4  https://www.reddit.com/r/Coronavirus/comments/...   \n",
       "32022  erj61t  https://www.reddit.com/r/Coronavirus/comments/...   \n",
       "32021  es0m55                https://i.redd.it/egzid59707c41.jpg   \n",
       "32019  es1pn4  https://www.reddit.com/r/Coronavirus/comments/...   \n",
       "32020  es2ooq                  http://www.reddit.com/r/China_Flu   \n",
       "...       ...                                                ...   \n",
       "240    fnoihu  https://yourbambo.com/products/10-rolls-3-ply-...   \n",
       "241    fnoijk  https://www.dshs.state.tx.us/news/updates.shtm...   \n",
       "242    fnoimn  https://thehill.com/policy/healthcare/489041-f...   \n",
       "243    fnoiu4                       https://youtu.be/jnlvCTyMdDk   \n",
       "244    fnoivj  https://www.usatoday.com/story/opinion/2020/03...   \n",
       "\n",
       "                                                   title             created  \\\n",
       "32023  BOOK┠FREE \"The Big Sky by A.B. Guthrie Jr.\" st... 2016-07-16 14:23:00   \n",
       "32022  When should we start to get worried about the ... 2020-01-20 15:32:31   \n",
       "32021  When the first reported US case of the new Chi... 2020-01-21 15:36:26   \n",
       "32019                                              Yikes 2020-01-21 16:49:40   \n",
       "32020  Join r/China_Flu, dedicated to monitoring curr... 2020-01-21 17:57:23   \n",
       "...                                                  ...                 ...   \n",
       "240    Start saving the environment and reducing your... 2020-03-23 13:58:53   \n",
       "241    Texas Department of State Health Services, und... 2020-03-23 13:58:58   \n",
       "242    Florida university announces 5 spring breakers... 2020-03-23 13:59:05   \n",
       "243                   TKO &amp; Martian - COVID-19 [Rap] 2020-03-23 13:59:24   \n",
       "244    America needs a five-week national lockdown to... 2020-03-23 13:59:28   \n",
       "\n",
       "       score  comments  \n",
       "32023      1         1  \n",
       "32022      1        82  \n",
       "32021      1        32  \n",
       "32019      1        23  \n",
       "32020      1         1  \n",
       "...      ...       ...  \n",
       "240        1         0  \n",
       "241        1         0  \n",
       "242        1         0  \n",
       "243        1         0  \n",
       "244        1         0  \n",
       "\n",
       "[32024 rows x 6 columns]"
      ]
     },
     "execution_count": 4,
     "metadata": {},
     "output_type": "execute_result"
    }
   ],
   "source": [
    "reddit = reddit.sort_values('created', ascending=True)\n",
    "reddit"
   ]
  },
  {
   "cell_type": "code",
   "execution_count": 130,
   "metadata": {},
   "outputs": [
    {
     "data": {
      "text/plain": [
       "1441"
      ]
     },
     "execution_count": 130,
     "metadata": {},
     "output_type": "execute_result"
    }
   ],
   "source": [
    "hour"
   ]
  },
  {
   "cell_type": "code",
   "execution_count": null,
   "metadata": {},
   "outputs": [],
   "source": []
  }
 ],
 "metadata": {
  "kernelspec": {
   "display_name": "Python 3",
   "language": "python",
   "name": "python3"
  },
  "language_info": {
   "codemirror_mode": {
    "name": "ipython",
    "version": 3
   },
   "file_extension": ".py",
   "mimetype": "text/x-python",
   "name": "python",
   "nbconvert_exporter": "python",
   "pygments_lexer": "ipython3",
   "version": "3.7.6"
  }
 },
 "nbformat": 4,
 "nbformat_minor": 4
}
