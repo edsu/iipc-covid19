{
 "cells": [
  {
   "cell_type": "markdown",
   "metadata": {},
   "source": [
    "# Reddit\n",
    "\n",
    "There is a [subreddit dedicated to the topic of Coronavirus](https://www.reddit.com/r/Coronavirus/). It currently has 1.5 million members.\n",
    "\n",
    "> On December 2019, a novel coronavirus strain (SARS-CoV-2) emerged in the city of Wuhan, China. This subreddit seeks to monitor the spread of the disease COVID-19, declared a pandemic by the WHO. Please be civil and empathetic. This subreddit is for high quality posts and discussion.\n",
    "\n",
    "Despite this description, this subreddit actually started in on May 3, 2013! Yep, coronaviruses have been with us for some time.\n",
    "\n",
    "Is it possible to look through the URLs being shared there to see if there are seeds for the COVID-19 project? Let's install [praw](https://praw.readthedocs.io/en/latest/) the Python Reddit API Wrapper and find out."
   ]
  },
  {
   "cell_type": "code",
   "execution_count": 2,
   "metadata": {},
   "outputs": [],
   "source": [
    "! pip --quiet install praw"
   ]
  },
  {
   "cell_type": "markdown",
   "metadata": {},
   "source": [
    "https://www.reddit.com/prefs/apps"
   ]
  },
  {
   "cell_type": "code",
   "execution_count": 6,
   "metadata": {},
   "outputs": [],
   "source": [
    "import praw\n",
    "\n",
    "reddit = praw.Reddit(\n",
    "    client_id = 'jzlgUXvJdNIrEA', \n",
    "    client_secret = 'JF0GJm26ZAkVjBFWvQH2ueuUH6g', \n",
    "    user_agent = 'praw-edsu')"
   ]
  },
  {
   "cell_type": "markdown",
   "metadata": {},
   "source": [
    "Let's look specifically at the Coronavirus subreddit:"
   ]
  },
  {
   "cell_type": "code",
   "execution_count": 7,
   "metadata": {},
   "outputs": [],
   "source": [
    "covid19 = reddit.subreddit('Coronavirus') "
   ]
  },
  {
   "cell_type": "markdown",
   "metadata": {},
   "source": [
    "## Posts\n",
    "\n",
    "Reddit started as a site to share links to things, vote and comment on them. It attempts to rank these posts using what it calls \"hottness\" which is a ranking based on the votes it has received and its age. At one point in time the source code for Reddit was available, and it was possible to [definitively say](https://medium.com/hacking-and-gonzo/how-reddit-ranking-algorithms-work-ef111e33d0d9) how the algorithm worked. But now it's not entirely clear. At any rate the Reddit API provides access to the hottest posts."
   ]
  },
  {
   "cell_type": "code",
   "execution_count": 8,
   "metadata": {},
   "outputs": [
    {
     "name": "stdout",
     "output_type": "stream",
     "text": [
      "Daily Discussion Post - March 23 | Questions, images, videos, comments, unconfirmed reports, theories, suggestions\n",
      "https://www.reddit.com/r/Coronavirus/comments/fnkb5o/daily_discussion_post_march_23_questions_images/\n",
      "\n",
      "Humanity wins: our fight to unlock 32,544 COVID-19 articles for the world. This petition is dedicated to the victims of the outbreak and their families. We fought for every article for every scientist for you.\n",
      "https://twitter.com/freereadorg/status/1236104420217286658\n",
      "\n",
      "COVID-19 front-line workers deserve financial reward\n",
      "https://ottawacitizen.com/opinion/letters/todays-letters-covid-19-front-line-workers-deserve-financial-reward?utm_medium=Social&utm_source=Facebook#Echobox=1584960626\n",
      "\n",
      "Sen. Klobuchar says her husband has coronavirus: “We just got the test results at 7 a.m. this morning ... He now has pneumonia and is on oxygen but not a ventilator.”\n",
      "https://twitter.com/nbcnews/status/1242100184101851137?s=21\n",
      "\n",
      "We have surpassed 100,000 recovered cases worldwide\n",
      "https://twitter.com/CovidTweet/status/1242041656263749638\n",
      "\n",
      "I'm a critical care doctor working in a UK high consequence infectious diseases centre. Many units are totally full, and we are scrambling to create more capacity. The initial UK government approach has been a total failure. Ask me anything.\n",
      "https://www.reddit.com/r/Coronavirus/comments/fnl0n6/im_a_critical_care_doctor_working_in_a_uk_high/\n",
      "\n",
      "Ukrainian MP claimed “there is no coronavirus” in his speech, tested positive for COVID-19\n",
      "https://replyua.net/news/201575-koronavirusa-nikakogo-net-a-est-koronavirus-v-golovah-u-chinovnikov-shahovu-pripomnili-kak-on-otrical-ugrozu-virusa-covid-19-dlya-ukrainy.html\n",
      "\n",
      "New York coronavirus cases surge 38% overnight to 20,875\n",
      "https://www.cnbc.com/2020/03/23/new-york-coronavirus-cases-surge-38percent-overnight-to-20875.html\n",
      "\n",
      "Students across the US are being asked to work remotely. But 22% of homes don't have internet\n",
      "https://www.theguardian.com/commentisfree/2020/mar/23/us-students-are-being-asked-to-work-remotely-but-22-of-homes-dont-have-internet\n",
      "\n",
      "CVS to hire 50,000 workers to deal with coronavirus rush, give bonuses to employees\n",
      "https://www.nydailynews.com/coronavirus/ny-coronavirus-cvs-hire-bonuses-20200323-odrrunfd5zb7tptk6afp2dgqwy-story.html\n",
      "\n"
     ]
    }
   ],
   "source": [
    "posts = covid19.hot(limit=10)\n",
    "\n",
    "for post in posts:\n",
    "    print(post.title)\n",
    "    print(post.url)\n",
    "    print(\"\")"
   ]
  },
  {
   "cell_type": "markdown",
   "metadata": {},
   "source": [
    "## Archived URLs\n",
    "\n",
    "Now lets take a look at the top 100 stories, and see how many URLs have been archived at the Internet Archive."
   ]
  },
  {
   "cell_type": "code",
   "execution_count": 9,
   "metadata": {},
   "outputs": [
    {
     "name": "stdout",
     "output_type": "stream",
     "text": [
      "25 URLs checked ; 8 archived (32.0%) ; 0 unable to be archived.\n"
     ]
    }
   ],
   "source": [
    "from wayback import WaybackClient\n",
    "from wayback.exceptions import WaybackException\n",
    "\n",
    "wb = WaybackClient()\n",
    "\n",
    "checked = []\n",
    "archived = []\n",
    "errors = []\n",
    "\n",
    "for post in covid19.hot(limit=25):\n",
    "    checked.append(post.url)\n",
    "    try:\n",
    "        versions = wb.search(post.url)\n",
    "        if len(list(versions)) > 0:\n",
    "            archived.append(post.url)\n",
    "    except WaybackException:\n",
    "        errors.append(post.url)\n",
    "    except Exception as e:\n",
    "        print(e)\n",
    "    \n",
    "print('{0} URLs checked ; {1} archived ({2:.1f}%) ; {3} unable to be archived.'.format(\n",
    "    len(checked),\n",
    "    len(archived),\n",
    "    len(archived) / len(checked) * 100,\n",
    "    len(errors)\n",
    "))"
   ]
  },
  {
   "cell_type": "markdown",
   "metadata": {},
   "source": [
    "Ok, so what URLs have already been archived?"
   ]
  },
  {
   "cell_type": "code",
   "execution_count": 10,
   "metadata": {},
   "outputs": [
    {
     "name": "stdout",
     "output_type": "stream",
     "text": [
      "https://twitter.com/freereadorg/status/1236104420217286658\n",
      "https://www.reddit.com/r/Coronavirus/comments/fnl0n6/im_a_critical_care_doctor_working_in_a_uk_high/\n",
      "https://replyua.net/news/201575-koronavirusa-nikakogo-net-a-est-koronavirus-v-golovah-u-chinovnikov-shahovu-pripomnili-kak-on-otrical-ugrozu-virusa-covid-19-dlya-ukrainy.html\n",
      "https://www.theguardian.com/commentisfree/2020/mar/23/us-students-are-being-asked-to-work-remotely-but-22-of-homes-dont-have-internet\n",
      "https://twitter.com/WellingMichael/status/1241491706677284870\n",
      "https://nypost.com/2020/03/23/coronavirus-crisis-will-get-bad-this-week-surgeon-general-warns/\n",
      "https://www.freep.com/story/news/local/michigan/oakland/2020/03/23/whitmer-michigan-lock-down-like-ohio-six-others-coronavirus-covid-19/2896041001/\n",
      "https://www.sciencealert.com/mild-covid-19-might-cause-a-lost-of-smell-or-taste\n"
     ]
    }
   ],
   "source": [
    "for url in archived:\n",
    "    print(url)"
   ]
  },
  {
   "cell_type": "markdown",
   "metadata": {},
   "source": [
    "We can also see which ones have not been archived:"
   ]
  },
  {
   "cell_type": "code",
   "execution_count": 11,
   "metadata": {},
   "outputs": [
    {
     "name": "stdout",
     "output_type": "stream",
     "text": [
      "https://twitter.com/nbcnews/status/1242100184101851137?s=21\n",
      "http://kdvr.com/news/coronavirus/fda-approves-rapid-coronavirus-test-created-in-colorado\n",
      "https://edition.cnn.com/world/live-news/coronavirus-outbreak-03-23-20-intl-hnk/h_8df53475be78f0280ae6eeebe098885a\n",
      "https://www.latimes.com/opinion/story/2020-03-23/coronovirus-healthcare-workers-risk\n",
      "https://edition.cnn.com/2020/03/23/health/us-coronavirus-updates-monday/index.html\n",
      "https://twitter.com/BAG_OFSP_UFSP/status/1242051679098474498\n",
      "https://ottawacitizen.com/opinion/letters/todays-letters-covid-19-front-line-workers-deserve-financial-reward?utm_medium=Social&utm_source=Facebook#Echobox=1584960626\n",
      "https://twitter.com/nbcnews/status/1241914972579467266?s=21\n",
      "https://www.newsweek.com/new-york-city-now-has-more-confirmed-cases-coronavirus-all-south-korea-1493755\n",
      "https://www.ladbible.com/news/news-gran-95-becomes-oldest-woman-in-italy-to-recover-from-covid-19-20200323\n",
      "https://www.channel24.co.za/News/Local/queens-royal-aide-tests-positive-for-coronavirus-20200323\n",
      "https://www.cnbc.com/2020/03/23/new-york-coronavirus-cases-surge-38percent-overnight-to-20875.html\n",
      "https://www.foxnews.com/us/us-coronavirus-case-numbers\n",
      "https://www.nydailynews.com/coronavirus/ny-coronavirus-cvs-hire-bonuses-20200323-odrrunfd5zb7tptk6afp2dgqwy-story.html\n",
      "https://twitter.com/CovidTweet/status/1242041656263749638\n",
      "https://www.hongkongfp.com/2020/03/23/coronavirus-taiwan-fines-man-us33000-breaking-quarantine-rule/?fbclid=IwAR0iHRx7INgRuGPvc0r2lipNkn5dYRGM6c72cgaN-kQ9VMXqlVsYA6GFg7E\n",
      "https://www.reddit.com/r/Coronavirus/comments/fnkb5o/daily_discussion_post_march_23_questions_images/\n"
     ]
    }
   ],
   "source": [
    "for url in set(checked) - set(archived):\n",
    "    print(url)"
   ]
  },
  {
   "cell_type": "markdown",
   "metadata": {},
   "source": [
    "## PushShift API\n",
    "\n",
    "Unfortunately, Reddit's API doesn't let you retrieve more than 100 of the hottest posts. But there is a service called [PushShift](https://pushift.io) that does make this data available via an [API] of their own. It appears that PushShift has [some kind of relationship](https://www.reddit.com/r/pushshift/comments/bcxguf/new_to_pushshift_read_this_faq/) with Reddit to make this possible, but it's not entirely clear what that relationship is.\n",
    "\n",
    "So lets look the posts in the last hour on the Coronavirus subreddit using the PushShift API. The API is public (no authentication requied), and allows us to search the Coronavirus subreddit using time slices delimited by a `before` and `after` parameters."
   ]
  },
  {
   "cell_type": "code",
   "execution_count": 1,
   "metadata": {},
   "outputs": [],
   "source": [
    "import requests\n",
    "\n",
    "url = \"https://api.pushshift.io/reddit/search/submission?subreddit=Coronavirus\"\n",
    "params = {\n",
    "    \"subreddit\": \"Coronavirus\",\n",
    "    \"after\": \"1h\",\n",
    "    \"limit\": 1000\n",
    "}\n",
    "\n",
    "results = requests.get(url, params=params).json()['data']"
   ]
  },
  {
   "cell_type": "code",
   "execution_count": 2,
   "metadata": {},
   "outputs": [
    {
     "data": {
      "text/plain": [
       "77"
      ]
     },
     "execution_count": 2,
     "metadata": {},
     "output_type": "execute_result"
    }
   ],
   "source": [
    "len(results)"
   ]
  },
  {
   "cell_type": "markdown",
   "metadata": {},
   "source": [
    "PushShift make quite a bit more data available for each post--here's the first one:"
   ]
  },
  {
   "cell_type": "code",
   "execution_count": 3,
   "metadata": {},
   "outputs": [
    {
     "data": {
      "text/plain": [
       "{'all_awardings': [],\n",
       " 'allow_live_comments': False,\n",
       " 'author': 'TheJeck',\n",
       " 'author_flair_css_class': None,\n",
       " 'author_flair_richtext': [],\n",
       " 'author_flair_text': None,\n",
       " 'author_flair_type': 'text',\n",
       " 'author_fullname': 't2_jhwaf',\n",
       " 'author_patreon_flair': False,\n",
       " 'author_premium': True,\n",
       " 'awarders': [],\n",
       " 'can_mod_post': False,\n",
       " 'contest_mode': False,\n",
       " 'created_utc': 1585127262,\n",
       " 'domain': 'independent.co.uk',\n",
       " 'full_link': 'https://www.reddit.com/r/Coronavirus/comments/fon6rl/nhs_volunteer_scheme_attracts_more_than_170000/',\n",
       " 'gildings': {},\n",
       " 'id': 'fon6rl',\n",
       " 'is_crosspostable': True,\n",
       " 'is_meta': False,\n",
       " 'is_original_content': False,\n",
       " 'is_reddit_media_domain': False,\n",
       " 'is_robot_indexable': True,\n",
       " 'is_self': False,\n",
       " 'is_video': False,\n",
       " 'link_flair_background_color': '#94e044',\n",
       " 'link_flair_richtext': [],\n",
       " 'link_flair_template_id': 'fd072d2c-5e48-11ea-8569-0eaa0007e55b',\n",
       " 'link_flair_text': 'Europe',\n",
       " 'link_flair_text_color': 'dark',\n",
       " 'link_flair_type': 'text',\n",
       " 'locked': False,\n",
       " 'media_only': False,\n",
       " 'no_follow': True,\n",
       " 'num_comments': 12,\n",
       " 'num_crossposts': 0,\n",
       " 'over_18': False,\n",
       " 'parent_whitelist_status': 'all_ads',\n",
       " 'permalink': '/r/Coronavirus/comments/fon6rl/nhs_volunteer_scheme_attracts_more_than_170000/',\n",
       " 'pinned': False,\n",
       " 'post_hint': 'link',\n",
       " 'preview': {'enabled': False,\n",
       "  'images': [{'id': 'JAOdcUzep2tsdYQv3u6u2cf0R5Vuq3A22lw6y6lqaiA',\n",
       "    'resolutions': [{'height': 81,\n",
       "      'url': 'https://external-preview.redd.it/SBM2BKri5agVZp4XNY-ov_dKwLQc8MffnWEfX7j_GWw.jpg?width=108&amp;crop=smart&amp;auto=webp&amp;s=7ffdef6ffe7c885926fa6ce5d47a0b1e2641f145',\n",
       "      'width': 108},\n",
       "     {'height': 162,\n",
       "      'url': 'https://external-preview.redd.it/SBM2BKri5agVZp4XNY-ov_dKwLQc8MffnWEfX7j_GWw.jpg?width=216&amp;crop=smart&amp;auto=webp&amp;s=40e65c1b034d713d1586db0c50c813e4d1225d69',\n",
       "      'width': 216},\n",
       "     {'height': 240,\n",
       "      'url': 'https://external-preview.redd.it/SBM2BKri5agVZp4XNY-ov_dKwLQc8MffnWEfX7j_GWw.jpg?width=320&amp;crop=smart&amp;auto=webp&amp;s=b62ee6c18514411ba984a65a2cc8b0ab405270b1',\n",
       "      'width': 320},\n",
       "     {'height': 480,\n",
       "      'url': 'https://external-preview.redd.it/SBM2BKri5agVZp4XNY-ov_dKwLQc8MffnWEfX7j_GWw.jpg?width=640&amp;crop=smart&amp;auto=webp&amp;s=2215296ad723dfe52342e64920c2f8a0cc753700',\n",
       "      'width': 640},\n",
       "     {'height': 720,\n",
       "      'url': 'https://external-preview.redd.it/SBM2BKri5agVZp4XNY-ov_dKwLQc8MffnWEfX7j_GWw.jpg?width=960&amp;crop=smart&amp;auto=webp&amp;s=2b560f12e12a09c17e2a04dc1da4664855c42be9',\n",
       "      'width': 960},\n",
       "     {'height': 810,\n",
       "      'url': 'https://external-preview.redd.it/SBM2BKri5agVZp4XNY-ov_dKwLQc8MffnWEfX7j_GWw.jpg?width=1080&amp;crop=smart&amp;auto=webp&amp;s=9e136dcbfa0ad814ae155553f8a397ac91eb5bbd',\n",
       "      'width': 1080}],\n",
       "    'source': {'height': 1739,\n",
       "     'url': 'https://external-preview.redd.it/SBM2BKri5agVZp4XNY-ov_dKwLQc8MffnWEfX7j_GWw.jpg?auto=webp&amp;s=fb5203fe0e6b55223e78e5ae42e33b08484f883f',\n",
       "     'width': 2318},\n",
       "    'variants': {}}]},\n",
       " 'pwls': 6,\n",
       " 'retrieved_on': 1585127265,\n",
       " 'score': 1,\n",
       " 'selftext': '',\n",
       " 'send_replies': True,\n",
       " 'spoiler': False,\n",
       " 'stickied': False,\n",
       " 'subreddit': 'Coronavirus',\n",
       " 'subreddit_id': 't5_2x4yx',\n",
       " 'subreddit_subscribers': 1661572,\n",
       " 'subreddit_type': 'public',\n",
       " 'suggested_sort': 'confidence',\n",
       " 'thumbnail': 'https://b.thumbs.redditmedia.com/PltqMhJmCzg94N_arD0B4WHue-drm5dF4vNtOBhWJJc.jpg',\n",
       " 'thumbnail_height': 105,\n",
       " 'thumbnail_width': 140,\n",
       " 'title': 'NHS volunteer scheme attracts more than 170,000 signs-ups within hours of being launched',\n",
       " 'total_awards_received': 0,\n",
       " 'url': 'https://www.independent.co.uk/news/health/coronavirus-nhs-volunteer-matt-hancock-uk-cases-pandemic-latest-a9423196.html',\n",
       " 'whitelist_status': 'all_ads',\n",
       " 'wls': 6}"
      ]
     },
     "execution_count": 3,
     "metadata": {},
     "output_type": "execute_result"
    }
   ],
   "source": [
    "results[0]"
   ]
  },
  {
   "cell_type": "markdown",
   "metadata": {},
   "source": [
    "For the purposes of appraising content about COVID-19 the `id`, `url`, `title`, `created_utc`, `score` and `num_comments` look like they could be useful. Let's create a function that will walk all the results back to January 1, 2020 (since we're interested in COVID-19) and write them to a CSV file. This is a bit of a longer stretch of code that I normally like to put in a Jupyter Notebook cell, but we need to do a bit of exception handling in case the API returns strangely.\n",
    "\n",
    "A few things to note about this code. We start out fetching 1 hour windows with the `before` and `after` parameters. But as we encounter time slices that have no posts we expand this window using the `step` variable."
   ]
  },
  {
   "cell_type": "code",
   "execution_count": 43,
   "metadata": {},
   "outputs": [
    {
     "name": "stdout",
     "output_type": "stream",
     "text": [
      "............................................................................................................................................................................................................................................................................................................................................................................................................................................................................................................................................................................................................................................................................................................................................................................................................................................................................................................................................................................................................................................................................................................................................................................................................................................................................................................................................................................................................................................................................................................................................................................................................................................................................................................................................................................................................................................................................................................................................................................................................................................................................................................................................................................................................................................................................................................................................................................................................................................................................................................................................................................................................................."
     ]
    }
   ],
   "source": [
    "import csv\n",
    "import sys\n",
    "import time\n",
    "import datetime\n",
    "\n",
    "out = csv.writer(open('data/reddit.csv', 'w'))\n",
    "out.writerow(['id', 'url', 'title', 'created', 'score', 'comments'])\n",
    "\n",
    "url = \"https://api.pushshift.io/reddit/search/submission?subreddit=Coronavirus\"\n",
    "params = {\n",
    "    \"subreddit\": \"Coronavirus\",\n",
    "    \"limit\": 1000\n",
    "}\n",
    "\n",
    "# keep track of the hour we are interested in\n",
    "hour = 1\n",
    "\n",
    "# step is the number of hours to look for at a time\n",
    "step = 1\n",
    "\n",
    "# calculate the number of hours since 2020-01-01\n",
    "num_hours = (datetime.datetime.now() - datetime.datetime(2020, 1, 1)).total_seconds() / (60 * 60)\n",
    "\n",
    "while hour < num_hours:\n",
    "    sys.stdout.write('.')\n",
    "    sys.stdout.flush()\n",
    "    \n",
    "    #params['before'] = '{}h'.format(hour - step)\n",
    "    #params['after'] = '{}h'.format(hour)\n",
    "    \n",
    "    params['before'] = '{}h'.format(hour)\n",
    "    params['after'] = '{}h'.format(hour + step)\n",
    "    \n",
    "    try:\n",
    "        resp = requests.get(url, params=params)\n",
    "        if resp.status_code != 200:\n",
    "            print('received {} response'.format(resp.status_code))\n",
    "        else:\n",
    "            results = resp.json()['data']\n",
    "            if len(results) > 0: \n",
    "                for result in results:\n",
    "                    created = datetime.datetime.fromtimestamp(result['created_utc'])\n",
    "                    out.writerow([\n",
    "                        result['id'],\n",
    "                        result['url'],\n",
    "                        result['title'],\n",
    "                        created.isoformat(),\n",
    "                        result['score'],\n",
    "                        result['num_comments']\n",
    "                    ])\n",
    "\n",
    "                # move the clock back further\n",
    "                hour += step\n",
    "            \n",
    "            else:\n",
    "                # we didn't find anything so increase the range\n",
    "                step += 1\n",
    "                        \n",
    "    except Exception as e:\n",
    "        print('uhoh: {}'.format(e))        \n",
    "\n",
    "    # be polite and wait a little between requests\n",
    "    time.sleep(0.5)"
   ]
  },
  {
   "cell_type": "code",
   "execution_count": 44,
   "metadata": {},
   "outputs": [
    {
     "data": {
      "text/html": [
       "<div>\n",
       "<style scoped>\n",
       "    .dataframe tbody tr th:only-of-type {\n",
       "        vertical-align: middle;\n",
       "    }\n",
       "\n",
       "    .dataframe tbody tr th {\n",
       "        vertical-align: top;\n",
       "    }\n",
       "\n",
       "    .dataframe thead th {\n",
       "        text-align: right;\n",
       "    }\n",
       "</style>\n",
       "<table border=\"1\" class=\"dataframe\">\n",
       "  <thead>\n",
       "    <tr style=\"text-align: right;\">\n",
       "      <th></th>\n",
       "      <th>id</th>\n",
       "      <th>url</th>\n",
       "      <th>title</th>\n",
       "      <th>created</th>\n",
       "      <th>score</th>\n",
       "      <th>comments</th>\n",
       "    </tr>\n",
       "  </thead>\n",
       "  <tbody>\n",
       "    <tr>\n",
       "      <th>0</th>\n",
       "      <td>formmz</td>\n",
       "      <td>https://youtu.be/QIfT8OHqTco</td>\n",
       "      <td>Italian Mayors Requesting Public to STAY AT HO...</td>\n",
       "      <td>2020-03-25 10:54:59</td>\n",
       "      <td>1</td>\n",
       "      <td>0</td>\n",
       "    </tr>\n",
       "    <tr>\n",
       "      <th>1</th>\n",
       "      <td>formz1</td>\n",
       "      <td>https://sterapod.com/products/sterapod</td>\n",
       "      <td>Has anyone used this before? Any thoughts?</td>\n",
       "      <td>2020-03-25 10:55:34</td>\n",
       "      <td>1</td>\n",
       "      <td>0</td>\n",
       "    </tr>\n",
       "    <tr>\n",
       "      <th>2</th>\n",
       "      <td>forn57</td>\n",
       "      <td>https://checkcorona.me/</td>\n",
       "      <td>Screening tool to check for COVID-19</td>\n",
       "      <td>2020-03-25 10:55:54</td>\n",
       "      <td>1</td>\n",
       "      <td>0</td>\n",
       "    </tr>\n",
       "    <tr>\n",
       "      <th>3</th>\n",
       "      <td>foro2o</td>\n",
       "      <td>https://www.google.com.hk/amp/s/www.nytimes.co...</td>\n",
       "      <td>Trump Expresses Outrage at Having to ‘Close th...</td>\n",
       "      <td>2020-03-25 10:57:26</td>\n",
       "      <td>1</td>\n",
       "      <td>0</td>\n",
       "    </tr>\n",
       "    <tr>\n",
       "      <th>4</th>\n",
       "      <td>foro8u</td>\n",
       "      <td>https://www.theguardian.com/world/2020/mar/25/...</td>\n",
       "      <td>UK coronavirus mass home testing to be made av...</td>\n",
       "      <td>2020-03-25 10:57:46</td>\n",
       "      <td>1</td>\n",
       "      <td>0</td>\n",
       "    </tr>\n",
       "    <tr>\n",
       "      <th>...</th>\n",
       "      <td>...</td>\n",
       "      <td>...</td>\n",
       "      <td>...</td>\n",
       "      <td>...</td>\n",
       "      <td>...</td>\n",
       "      <td>...</td>\n",
       "    </tr>\n",
       "    <tr>\n",
       "      <th>132821</th>\n",
       "      <td>eswa8f</td>\n",
       "      <td>https://www.reddit.com/r/Coronavirus/comments/...</td>\n",
       "      <td>Stop accepting flights from China</td>\n",
       "      <td>2020-01-23 12:26:10</td>\n",
       "      <td>1</td>\n",
       "      <td>7</td>\n",
       "    </tr>\n",
       "    <tr>\n",
       "      <th>132822</th>\n",
       "      <td>eswrwc</td>\n",
       "      <td>https://www.reddit.com/r/Coronavirus/comments/...</td>\n",
       "      <td>Should I still take my trip to China?</td>\n",
       "      <td>2020-01-23 13:01:11</td>\n",
       "      <td>1</td>\n",
       "      <td>66</td>\n",
       "    </tr>\n",
       "    <tr>\n",
       "      <th>132823</th>\n",
       "      <td>esww86</td>\n",
       "      <td>https://www.reddit.com/r/Coronavirus/comments/...</td>\n",
       "      <td>Question</td>\n",
       "      <td>2020-01-23 13:09:27</td>\n",
       "      <td>1</td>\n",
       "      <td>5</td>\n",
       "    </tr>\n",
       "    <tr>\n",
       "      <th>132824</th>\n",
       "      <td>esvgnt</td>\n",
       "      <td>https://www.reddit.com/r/Coronavirus/comments/...</td>\n",
       "      <td>Anxiety</td>\n",
       "      <td>2020-01-23 11:28:22</td>\n",
       "      <td>1</td>\n",
       "      <td>200</td>\n",
       "    </tr>\n",
       "    <tr>\n",
       "      <th>132825</th>\n",
       "      <td>esvrl5</td>\n",
       "      <td>https://www.bbc.co.uk/news/technology-51222796</td>\n",
       "      <td>Ironic?</td>\n",
       "      <td>2020-01-23 11:50:03</td>\n",
       "      <td>1</td>\n",
       "      <td>0</td>\n",
       "    </tr>\n",
       "  </tbody>\n",
       "</table>\n",
       "<p>132826 rows × 6 columns</p>\n",
       "</div>"
      ],
      "text/plain": [
       "            id                                                url  \\\n",
       "0       formmz                       https://youtu.be/QIfT8OHqTco   \n",
       "1       formz1             https://sterapod.com/products/sterapod   \n",
       "2       forn57                            https://checkcorona.me/   \n",
       "3       foro2o  https://www.google.com.hk/amp/s/www.nytimes.co...   \n",
       "4       foro8u  https://www.theguardian.com/world/2020/mar/25/...   \n",
       "...        ...                                                ...   \n",
       "132821  eswa8f  https://www.reddit.com/r/Coronavirus/comments/...   \n",
       "132822  eswrwc  https://www.reddit.com/r/Coronavirus/comments/...   \n",
       "132823  esww86  https://www.reddit.com/r/Coronavirus/comments/...   \n",
       "132824  esvgnt  https://www.reddit.com/r/Coronavirus/comments/...   \n",
       "132825  esvrl5     https://www.bbc.co.uk/news/technology-51222796   \n",
       "\n",
       "                                                    title             created  \\\n",
       "0       Italian Mayors Requesting Public to STAY AT HO... 2020-03-25 10:54:59   \n",
       "1              Has anyone used this before? Any thoughts? 2020-03-25 10:55:34   \n",
       "2                    Screening tool to check for COVID-19 2020-03-25 10:55:54   \n",
       "3       Trump Expresses Outrage at Having to ‘Close th... 2020-03-25 10:57:26   \n",
       "4       UK coronavirus mass home testing to be made av... 2020-03-25 10:57:46   \n",
       "...                                                   ...                 ...   \n",
       "132821                  Stop accepting flights from China 2020-01-23 12:26:10   \n",
       "132822              Should I still take my trip to China? 2020-01-23 13:01:11   \n",
       "132823                                           Question 2020-01-23 13:09:27   \n",
       "132824                                            Anxiety 2020-01-23 11:28:22   \n",
       "132825                                            Ironic? 2020-01-23 11:50:03   \n",
       "\n",
       "        score  comments  \n",
       "0           1         0  \n",
       "1           1         0  \n",
       "2           1         0  \n",
       "3           1         0  \n",
       "4           1         0  \n",
       "...       ...       ...  \n",
       "132821      1         7  \n",
       "132822      1        66  \n",
       "132823      1         5  \n",
       "132824      1       200  \n",
       "132825      1         0  \n",
       "\n",
       "[132826 rows x 6 columns]"
      ]
     },
     "execution_count": 44,
     "metadata": {},
     "output_type": "execute_result"
    }
   ],
   "source": [
    "import pandas\n",
    "\n",
    "reddit = pandas.read_csv('data/reddit.csv', parse_dates=['created'])\n",
    "reddit"
   ]
  },
  {
   "cell_type": "markdown",
   "metadata": {},
   "source": [
    "Let's sort it by score."
   ]
  },
  {
   "cell_type": "code",
   "execution_count": 45,
   "metadata": {},
   "outputs": [],
   "source": [
    "reddit = reddit.sort_values('created', ascending=True)\n",
    "reddit.to_csv('data/reddit.csv')"
   ]
  },
  {
   "cell_type": "markdown",
   "metadata": {},
   "source": [
    "## Activity\n",
    "\n",
    "Since there is so much activity it would be interesting to see what it looks like over time. But first we need to summarize it, because it's too many rows to pass off directly to Altair."
   ]
  },
  {
   "cell_type": "code",
   "execution_count": 59,
   "metadata": {},
   "outputs": [
    {
     "data": {
      "text/html": [
       "\n",
       "<div id=\"altair-viz-71e48bd7ea8146a8b667816ff1023cde\"></div>\n",
       "<script type=\"text/javascript\">\n",
       "  (function(spec, embedOpt){\n",
       "    const outputDiv = document.getElementById(\"altair-viz-71e48bd7ea8146a8b667816ff1023cde\");\n",
       "    const paths = {\n",
       "      \"vega\": \"https://cdn.jsdelivr.net/npm//vega@5?noext\",\n",
       "      \"vega-lib\": \"https://cdn.jsdelivr.net/npm//vega-lib?noext\",\n",
       "      \"vega-lite\": \"https://cdn.jsdelivr.net/npm//vega-lite@4.0.2?noext\",\n",
       "      \"vega-embed\": \"https://cdn.jsdelivr.net/npm//vega-embed@6?noext\",\n",
       "    };\n",
       "\n",
       "    function loadScript(lib) {\n",
       "      return new Promise(function(resolve, reject) {\n",
       "        var s = document.createElement('script');\n",
       "        s.src = paths[lib];\n",
       "        s.async = true;\n",
       "        s.onload = () => resolve(paths[lib]);\n",
       "        s.onerror = () => reject(`Error loading script: ${paths[lib]}`);\n",
       "        document.getElementsByTagName(\"head\")[0].appendChild(s);\n",
       "      });\n",
       "    }\n",
       "\n",
       "    function showError(err) {\n",
       "      outputDiv.innerHTML = `<div class=\"error\" style=\"color:red;\">${err}</div>`;\n",
       "      throw err;\n",
       "    }\n",
       "\n",
       "    function displayChart(vegaEmbed) {\n",
       "      vegaEmbed(outputDiv, spec, embedOpt)\n",
       "        .catch(err => showError(`Javascript Error: ${err.message}<br>This usually means there's a typo in your chart specification. See the javascript console for the full traceback.`));\n",
       "    }\n",
       "\n",
       "    if(typeof define === \"function\" && define.amd) {\n",
       "      requirejs.config({paths});\n",
       "      require([\"vega-embed\"], displayChart, err => showError(`Error loading script: ${err.message}`));\n",
       "    } else if (typeof vegaEmbed === \"function\") {\n",
       "      displayChart(vegaEmbed);\n",
       "    } else {\n",
       "      loadScript(\"vega\")\n",
       "        .then(() => loadScript(\"vega-lite\"))\n",
       "        .then(() => loadScript(\"vega-embed\"))\n",
       "        .catch(showError)\n",
       "        .then(() => displayChart(vegaEmbed));\n",
       "    }\n",
       "  })({\"config\": {\"view\": {\"continuousWidth\": 400, \"continuousHeight\": 300}}, \"data\": {\"name\": \"data-4ed871e2a05469f86faba91ce4e46c10\"}, \"mark\": \"bar\", \"encoding\": {\"x\": {\"type\": \"temporal\", \"field\": \"created\", \"timeUnit\": \"monthdate\", \"title\": \"Time (Days)\"}, \"y\": {\"type\": \"quantitative\", \"field\": \"id\", \"title\": \"Posts per Day\"}}, \"title\": \"Coronavirus Subreddit Posts\", \"width\": 800, \"$schema\": \"https://vega.github.io/schema/vega-lite/v4.0.2.json\", \"datasets\": {\"data-4ed871e2a05469f86faba91ce4e46c10\": [{\"created\": \"2020-01-23T00:00:00\", \"id\": 55, \"url\": 55, \"title\": 55, \"score\": 55, \"comments\": 55}, {\"created\": \"2020-01-24T00:00:00\", \"id\": 218, \"url\": 218, \"title\": 218, \"score\": 218, \"comments\": 218}, {\"created\": \"2020-01-25T00:00:00\", \"id\": 407, \"url\": 407, \"title\": 407, \"score\": 407, \"comments\": 407}, {\"created\": \"2020-01-26T00:00:00\", \"id\": 634, \"url\": 634, \"title\": 634, \"score\": 634, \"comments\": 634}, {\"created\": \"2020-01-27T00:00:00\", \"id\": 661, \"url\": 661, \"title\": 661, \"score\": 661, \"comments\": 661}, {\"created\": \"2020-01-28T00:00:00\", \"id\": 770, \"url\": 770, \"title\": 770, \"score\": 770, \"comments\": 770}, {\"created\": \"2020-01-29T00:00:00\", \"id\": 692, \"url\": 692, \"title\": 692, \"score\": 692, \"comments\": 692}, {\"created\": \"2020-01-30T00:00:00\", \"id\": 897, \"url\": 897, \"title\": 897, \"score\": 897, \"comments\": 897}, {\"created\": \"2020-01-31T00:00:00\", \"id\": 888, \"url\": 888, \"title\": 888, \"score\": 888, \"comments\": 888}, {\"created\": \"2020-02-01T00:00:00\", \"id\": 723, \"url\": 723, \"title\": 723, \"score\": 723, \"comments\": 723}, {\"created\": \"2020-02-02T00:00:00\", \"id\": 696, \"url\": 696, \"title\": 696, \"score\": 696, \"comments\": 696}, {\"created\": \"2020-02-03T00:00:00\", \"id\": 679, \"url\": 679, \"title\": 679, \"score\": 679, \"comments\": 679}, {\"created\": \"2020-02-04T00:00:00\", \"id\": 697, \"url\": 697, \"title\": 697, \"score\": 697, \"comments\": 697}, {\"created\": \"2020-02-05T00:00:00\", \"id\": 740, \"url\": 740, \"title\": 740, \"score\": 740, \"comments\": 740}, {\"created\": \"2020-02-06T00:00:00\", \"id\": 827, \"url\": 827, \"title\": 827, \"score\": 827, \"comments\": 827}, {\"created\": \"2020-02-07T00:00:00\", \"id\": 760, \"url\": 760, \"title\": 760, \"score\": 760, \"comments\": 760}, {\"created\": \"2020-02-08T00:00:00\", \"id\": 763, \"url\": 763, \"title\": 763, \"score\": 763, \"comments\": 763}, {\"created\": \"2020-02-09T00:00:00\", \"id\": 759, \"url\": 759, \"title\": 759, \"score\": 759, \"comments\": 759}, {\"created\": \"2020-02-10T00:00:00\", \"id\": 897, \"url\": 897, \"title\": 897, \"score\": 897, \"comments\": 897}, {\"created\": \"2020-02-11T00:00:00\", \"id\": 796, \"url\": 796, \"title\": 796, \"score\": 796, \"comments\": 796}, {\"created\": \"2020-02-12T00:00:00\", \"id\": 784, \"url\": 784, \"title\": 784, \"score\": 784, \"comments\": 784}, {\"created\": \"2020-02-13T00:00:00\", \"id\": 763, \"url\": 763, \"title\": 763, \"score\": 763, \"comments\": 763}, {\"created\": \"2020-02-14T00:00:00\", \"id\": 684, \"url\": 684, \"title\": 684, \"score\": 684, \"comments\": 684}, {\"created\": \"2020-02-15T00:00:00\", \"id\": 587, \"url\": 587, \"title\": 587, \"score\": 587, \"comments\": 587}, {\"created\": \"2020-02-16T00:00:00\", \"id\": 567, \"url\": 567, \"title\": 567, \"score\": 567, \"comments\": 567}, {\"created\": \"2020-02-17T00:00:00\", \"id\": 677, \"url\": 677, \"title\": 677, \"score\": 677, \"comments\": 677}, {\"created\": \"2020-02-18T00:00:00\", \"id\": 626, \"url\": 626, \"title\": 626, \"score\": 626, \"comments\": 626}, {\"created\": \"2020-02-19T00:00:00\", \"id\": 671, \"url\": 671, \"title\": 671, \"score\": 671, \"comments\": 671}, {\"created\": \"2020-02-20T00:00:00\", \"id\": 636, \"url\": 636, \"title\": 636, \"score\": 636, \"comments\": 636}, {\"created\": \"2020-02-21T00:00:00\", \"id\": 855, \"url\": 855, \"title\": 855, \"score\": 855, \"comments\": 855}, {\"created\": \"2020-02-22T00:00:00\", \"id\": 915, \"url\": 915, \"title\": 915, \"score\": 915, \"comments\": 915}, {\"created\": \"2020-02-23T00:00:00\", \"id\": 1061, \"url\": 1061, \"title\": 1061, \"score\": 1061, \"comments\": 1061}, {\"created\": \"2020-02-24T00:00:00\", \"id\": 1319, \"url\": 1319, \"title\": 1319, \"score\": 1319, \"comments\": 1319}, {\"created\": \"2020-02-25T00:00:00\", \"id\": 1697, \"url\": 1697, \"title\": 1697, \"score\": 1697, \"comments\": 1697}, {\"created\": \"2020-02-26T00:00:00\", \"id\": 1996, \"url\": 1996, \"title\": 1996, \"score\": 1996, \"comments\": 1996}, {\"created\": \"2020-02-27T00:00:00\", \"id\": 2459, \"url\": 2459, \"title\": 2459, \"score\": 2459, \"comments\": 2459}, {\"created\": \"2020-02-28T00:00:00\", \"id\": 2560, \"url\": 2560, \"title\": 2560, \"score\": 2560, \"comments\": 2560}, {\"created\": \"2020-02-29T00:00:00\", \"id\": 1317, \"url\": 1317, \"title\": 1317, \"score\": 1317, \"comments\": 1317}, {\"created\": \"2020-03-01T00:00:00\", \"id\": 1507, \"url\": 1507, \"title\": 1507, \"score\": 1507, \"comments\": 1507}, {\"created\": \"2020-03-02T00:00:00\", \"id\": 2258, \"url\": 2258, \"title\": 2258, \"score\": 2258, \"comments\": 2258}, {\"created\": \"2020-03-03T00:00:00\", \"id\": 3055, \"url\": 3055, \"title\": 3055, \"score\": 3055, \"comments\": 3055}, {\"created\": \"2020-03-04T00:00:00\", \"id\": 2797, \"url\": 2797, \"title\": 2797, \"score\": 2797, \"comments\": 2797}, {\"created\": \"2020-03-05T00:00:00\", \"id\": 3053, \"url\": 3053, \"title\": 3053, \"score\": 3053, \"comments\": 3053}, {\"created\": \"2020-03-06T00:00:00\", \"id\": 3256, \"url\": 3256, \"title\": 3256, \"score\": 3256, \"comments\": 3256}, {\"created\": \"2020-03-07T00:00:00\", \"id\": 2524, \"url\": 2524, \"title\": 2524, \"score\": 2524, \"comments\": 2524}, {\"created\": \"2020-03-08T00:00:00\", \"id\": 2548, \"url\": 2548, \"title\": 2548, \"score\": 2548, \"comments\": 2548}, {\"created\": \"2020-03-09T00:00:00\", \"id\": 3642, \"url\": 3642, \"title\": 3642, \"score\": 3642, \"comments\": 3642}, {\"created\": \"2020-03-10T00:00:00\", \"id\": 3971, \"url\": 3971, \"title\": 3971, \"score\": 3971, \"comments\": 3971}, {\"created\": \"2020-03-11T00:00:00\", \"id\": 5594, \"url\": 5594, \"title\": 5594, \"score\": 5594, \"comments\": 5594}, {\"created\": \"2020-03-12T00:00:00\", \"id\": 6805, \"url\": 6805, \"title\": 6805, \"score\": 6805, \"comments\": 6805}, {\"created\": \"2020-03-13T00:00:00\", \"id\": 6429, \"url\": 6429, \"title\": 6429, \"score\": 6429, \"comments\": 6429}, {\"created\": \"2020-03-14T00:00:00\", \"id\": 5124, \"url\": 5124, \"title\": 5124, \"score\": 5124, \"comments\": 5124}, {\"created\": \"2020-03-15T00:00:00\", \"id\": 5071, \"url\": 5071, \"title\": 5071, \"score\": 5071, \"comments\": 5071}, {\"created\": \"2020-03-16T00:00:00\", \"id\": 5116, \"url\": 5116, \"title\": 5116, \"score\": 5116, \"comments\": 5116}, {\"created\": \"2020-03-17T00:00:00\", \"id\": 4381, \"url\": 4381, \"title\": 4381, \"score\": 4381, \"comments\": 4381}, {\"created\": \"2020-03-18T00:00:00\", \"id\": 4728, \"url\": 4728, \"title\": 4728, \"score\": 4728, \"comments\": 4728}, {\"created\": \"2020-03-19T00:00:00\", \"id\": 4689, \"url\": 4689, \"title\": 4689, \"score\": 4689, \"comments\": 4689}, {\"created\": \"2020-03-20T00:00:00\", \"id\": 4346, \"url\": 4346, \"title\": 4346, \"score\": 4346, \"comments\": 4346}, {\"created\": \"2020-03-21T00:00:00\", \"id\": 3838, \"url\": 3838, \"title\": 3838, \"score\": 3838, \"comments\": 3838}, {\"created\": \"2020-03-22T00:00:00\", \"id\": 4239, \"url\": 4239, \"title\": 4239, \"score\": 4239, \"comments\": 4239}, {\"created\": \"2020-03-23T00:00:00\", \"id\": 4183, \"url\": 4183, \"title\": 4183, \"score\": 4183, \"comments\": 4183}, {\"created\": \"2020-03-24T00:00:00\", \"id\": 4324, \"url\": 4324, \"title\": 4324, \"score\": 4324, \"comments\": 4324}, {\"created\": \"2020-03-25T00:00:00\", \"id\": 1615, \"url\": 1615, \"title\": 1615, \"score\": 1615, \"comments\": 1615}]}}, {\"mode\": \"vega-lite\"});\n",
       "</script>"
      ],
      "text/plain": [
       "alt.Chart(...)"
      ]
     },
     "execution_count": 59,
     "metadata": {},
     "output_type": "execute_result"
    }
   ],
   "source": [
    "import altair\n",
    "\n",
    "posts_by_hour = reddit.groupby('created').count()\n",
    "posts_by_hour = posts_by_hour.resample('1D').sum()\n",
    "\n",
    "posts_by_hour\n",
    "\n",
    "altair.Chart(posts_by_hour.reset_index(), title=\"Coronavirus Subreddit Posts\", width=800).mark_bar().encode(\n",
    "    altair.X('monthdate(created)', title='Time (Days)'),\n",
    "    altair.Y('id', title='Posts per Day')\n",
    ")"
   ]
  },
  {
   "cell_type": "code",
   "execution_count": null,
   "metadata": {},
   "outputs": [],
   "source": []
  }
 ],
 "metadata": {
  "kernelspec": {
   "display_name": "Python 3",
   "language": "python",
   "name": "python3"
  },
  "language_info": {
   "codemirror_mode": {
    "name": "ipython",
    "version": 3
   },
   "file_extension": ".py",
   "mimetype": "text/x-python",
   "name": "python",
   "nbconvert_exporter": "python",
   "pygments_lexer": "ipython3",
   "version": "3.7.6"
  }
 },
 "nbformat": 4,
 "nbformat_minor": 4
}
